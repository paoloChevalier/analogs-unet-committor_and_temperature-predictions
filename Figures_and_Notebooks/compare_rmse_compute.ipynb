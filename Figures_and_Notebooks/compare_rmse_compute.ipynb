{
 "cells": [
  {
   "cell_type": "code",
   "execution_count": null,
   "id": "acabc3ba-44ad-468d-a93c-79234dd0245b",
   "metadata": {},
   "outputs": [],
   "source": [
    "# To reload local package without restarting kernel every time\n",
    "%load_ext autoreload\n",
    "%autoreload 1\n",
    "%aimport climTools.helperFunctions\n",
    "\n",
    "# Basic libraries\n",
    "import numpy as np\n",
    "import pandas as pd\n",
    "import xarray as xr\n",
    "import xskillscore as xs\n",
    "import dask.array as da\n",
    "from tqdm.notebook import tqdm\n",
    "import time\n",
    "from memory_profiler import memory_usage\n",
    "\n",
    "# My local package\n",
    "from climTools.helperFunctions import *\n",
    "\n",
    "# Images and file libraries\n",
    "import glob"
   ]
  },
  {
   "cell_type": "code",
   "execution_count": null,
   "id": "e0dbca47-76f2-4386-85c6-4fbaa474a72a",
   "metadata": {},
   "outputs": [],
   "source": [
    "tas_path_ipsl = \"/homedata/pchevali/clean_data_ipsl/preprocessed/tas_day_IPSL-CM6A-LR_historical_allruns_19500101-20141231_30W_40E_30N_75N.nc\"\n",
    "tas_anom_path_ipsl = \"/homedata/pchevali/clean_data_ipsl/preprocessed/tas_anom_day_IPSL-CM6A-LR_historical_allruns_19500101-20141231_30W_40E_30N_75N.nc\"\n",
    "tas_ipsl = xr.open_dataset(tas_path_ipsl)\n",
    "tas_anom_ipsl = xr.open_dataset(tas_anom_path_ipsl)"
   ]
  },
  {
   "cell_type": "code",
   "execution_count": null,
   "id": "0c0847b3-3abc-4cb8-b181-02c20eb6676a",
   "metadata": {},
   "outputs": [],
   "source": [
    "def compute_pairwise_rmse_fast(data1, data2):\n",
    "    \"\"\"Computes the pairwise rms between every times of two datasets\n",
    "\n",
    "    The function computes the pairwise rms between every times of two datasets,\n",
    "    can take a in memory array or dask backed array lazily.\n",
    "\n",
    "    Args:\n",
    "        data1: A np.array[time,lat,lon]\n",
    "        data2: A np.array[time,lat,lon]\n",
    "\n",
    "    Returns:\n",
    "        A xarray.DataSet containing everything.\n",
    "    \"\"\"\n",
    "    return (\n",
    "        np.sqrt(((data1[:, None, :, :] - data2[None, :, :, :]) ** 2).mean(axis=(2, 3)))\n",
    "        if data1.ndim == 3\n",
    "        else np.sqrt(((data1[:, None, :] - data2[None, :, :]) ** 2).mean(axis=2))\n",
    "        if data1.ndim == 2\n",
    "        else np.sqrt((data1[:, None] - data2[None, :]) ** 2)\n",
    "    )\n",
    "    # use of numpy array brodcasting explicitely to vectorise the computation"
   ]
  },
  {
   "cell_type": "code",
   "execution_count": null,
   "id": "153b6a50-7606-4f36-8cb0-c1d2455cf5b2",
   "metadata": {},
   "outputs": [],
   "source": [
    "def compute_pairwise_rmse_fast_matmul(data1, data2):\n",
    "    \"\"\"Computes the pairwise rms between every times of two datasets\n",
    "\n",
    "    The function computes the pairwise rms between every times of two datasets,\n",
    "    can take a in memory array or dask backed array lazily.\n",
    "\n",
    "    Args:\n",
    "        data1: A np.array[time_run,space]\n",
    "        data2: A np.array[time_run,space]\n",
    "\n",
    "    Returns:\n",
    "        A xarray.DataSet containing everything.\n",
    "    \"\"\"\n",
    "    return np.sqrt(np.maximum(\n",
    "        (data1**2).mean(axis=1)[:, None]\n",
    "        + (data2**2).mean(axis=1)[None, :]\n",
    "        - 2 * (data1 @ data2.T) / data1.shape[1],\n",
    "        0\n",
    "    ))  # max(0,values) because matrix multiplication is fast but can be unprecise leading to <0 results"
   ]
  },
  {
   "cell_type": "markdown",
   "id": "a2b51a08-c1d8-4cd0-9118-3dd8299a9d35",
   "metadata": {},
   "source": [
    "### Perf test"
   ]
  },
  {
   "cell_type": "code",
   "execution_count": null,
   "id": "634d0613-4408-496e-95be-c34f70126ce5",
   "metadata": {},
   "outputs": [],
   "source": [
    "test = tas_anom_ipsl.tas.data\n",
    "test_flat = tas_anom_ipsl.tas.stack(space=[\"lat\", \"lon\"]).data\n",
    "\n",
    "slice_sizes = list(range(10, 2200, 100))\n",
    "\n",
    "times_fast = []\n",
    "times_matmul = []\n",
    "\n",
    "mem_fast = []\n",
    "mem_matmul = []\n",
    "\n",
    "for size in slice_sizes:\n",
    "    slicee = slice(0, size)\n",
    "    data_flat = test_flat[slicee]\n",
    "\n",
    "    # Time and memory for compute_pairwise_rmse_fast\n",
    "    start = time.time()\n",
    "    mem_usage = memory_usage((compute_pairwise_rmse_fast, (data_flat, data_flat)))\n",
    "    times_fast.append(time.time() - start)\n",
    "    mem_fast.append(np.max(mem_usage))  # peak memory during call\n",
    "\n",
    "    # Time and memory for compute_pairwise_rmse_fast_matmul\n",
    "    start = time.time()\n",
    "    mem_usage = memory_usage((compute_pairwise_rmse_fast_matmul, (data_flat, data_flat)))\n",
    "    times_matmul.append(time.time() - start)\n",
    "    mem_matmul.append(np.max(mem_usage))\n",
    "\n",
    "# Plot execution time\n",
    "plt.figure(figsize=(12,5))\n",
    "plt.subplot(1,2,1)\n",
    "plt.plot(slice_sizes, times_fast, label='compute_pairwise_rmse_fast', marker='o')\n",
    "plt.plot(slice_sizes, times_matmul, label='compute_pairwise_rmse_fast_matmul', marker='x')\n",
    "plt.xlabel('Slice size (time dimension)')\n",
    "plt.ylabel('Execution time (s)')\n",
    "plt.legend()\n",
    "plt.grid(True)\n",
    "plt.title(\"Execution Time\")\n",
    "\n",
    "# Plot memory usage\n",
    "plt.subplot(1,2,2)\n",
    "plt.plot(slice_sizes, np.array(mem_fast)/1024, label='compute_pairwise_rmse_fast', marker='o')\n",
    "plt.plot(slice_sizes, np.array(mem_matmul)/1024, label='compute_pairwise_rmse_fast_matmul', marker='x')\n",
    "plt.xlabel('Slice size (time dimension)')\n",
    "plt.ylabel('Peak memory (Gb)')\n",
    "plt.legend()\n",
    "plt.grid(True)\n",
    "plt.title(\"Memory Usage\")\n",
    "plt.tight_layout()\n",
    "plt.show()"
   ]
  },
  {
   "cell_type": "code",
   "execution_count": null,
   "id": "a1d512f9-4df3-4969-bab1-521a4b00e0fe",
   "metadata": {},
   "outputs": [],
   "source": [
    "A=compute_pairwise_rmse_fast_matmul(test_flat[1:100],test_flat[1:100])\n",
    "B=compute_pairwise_rmse_fast(test_flat[1:100],test_flat[1:100])"
   ]
  },
  {
   "cell_type": "code",
   "execution_count": null,
   "id": "629704ad-4881-4604-9809-2c0bc0aeaf52",
   "metadata": {},
   "outputs": [],
   "source": [
    "np.allclose(A, B, rtol=1e-4, atol=1e-4)"
   ]
  },
  {
   "cell_type": "code",
   "execution_count": null,
   "id": "c813b9c2-028f-4885-a1fd-af3315367476",
   "metadata": {},
   "outputs": [],
   "source": [
    "test = tas_anom_ipsl.tas.data\n",
    "test_flat = tas_anom_ipsl.tas.stack(space=[\"lat\", \"lon\"]).data\n",
    "\n",
    "slice_sizes = list(range(10, 50000, 1000))\n",
    "\n",
    "times_matmul = []\n",
    "\n",
    "mem_matmul = []\n",
    "\n",
    "for size in slice_sizes:\n",
    "    slicee = slice(0, size)\n",
    "    data_flat = test_flat[slicee]\n",
    "\n",
    "    # Time and memory for compute_pairwise_rmse_fast_matmul\n",
    "    start = time.time()\n",
    "    mem_usage = memory_usage((compute_pairwise_rmse_fast_matmul, (data_flat, data_flat)))\n",
    "    times_matmul.append(time.time() - start)\n",
    "    mem_matmul.append(np.max(mem_usage))\n",
    "\n",
    "# Plot execution time\n",
    "plt.figure(figsize=(12,5))\n",
    "plt.subplot(1,2,1)\n",
    "plt.plot(slice_sizes, times_matmul, label='compute_pairwise_rmse_fast_matmul', marker='x')\n",
    "plt.xlabel('Slice size (time dimension)')\n",
    "plt.ylabel('Execution time (s)')\n",
    "plt.legend()\n",
    "plt.grid(True)\n",
    "plt.title(\"Execution Time\")\n",
    "\n",
    "# Plot memory usage\n",
    "plt.subplot(1,2,2)\n",
    "plt.plot(slice_sizes, np.array(mem_matmul)/1024, label='compute_pairwise_rmse_fast_matmul', marker='x')\n",
    "plt.xlabel('Slice size (time dimension)')\n",
    "plt.ylabel('Peak memory (Gb)')\n",
    "plt.legend()\n",
    "plt.grid(True)\n",
    "plt.title(\"Memory Usage\")\n",
    "plt.tight_layout()\n",
    "plt.show()"
   ]
  },
  {
   "cell_type": "markdown",
   "id": "98d9ddde-fa0c-4a03-ab14-30b6594e04e3",
   "metadata": {},
   "source": [
    "conclusion : we keep the matmul version"
   ]
  }
 ],
 "metadata": {
  "kernelspec": {
   "display_name": "Python 3",
   "language": "python",
   "name": "python3"
  },
  "language_info": {
   "codemirror_mode": {
    "name": "ipython",
    "version": 3
   },
   "file_extension": ".py",
   "mimetype": "text/x-python",
   "name": "python",
   "nbconvert_exporter": "python",
   "pygments_lexer": "ipython3",
   "version": "3.11.7"
  }
 },
 "nbformat": 4,
 "nbformat_minor": 5
}
