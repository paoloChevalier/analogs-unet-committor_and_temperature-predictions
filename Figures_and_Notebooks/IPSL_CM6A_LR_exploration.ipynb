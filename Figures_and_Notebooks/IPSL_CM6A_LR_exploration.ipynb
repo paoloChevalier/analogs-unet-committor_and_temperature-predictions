{
 "cells": [
  {
   "cell_type": "markdown",
   "id": "cd978bdb-4a76-4159-8b8b-cb303ba8def4",
   "metadata": {},
   "source": [
    "# Load packages and utils"
   ]
  },
  {
   "cell_type": "code",
   "execution_count": null,
   "id": "fce91c8c-e557-41d2-b47a-6c21876b1f59",
   "metadata": {},
   "outputs": [],
   "source": [
    "# To reload local package without restarting kernel every time\n",
    "%load_ext autoreload\n",
    "%autoreload 1\n",
    "%aimport climTools.helperFunctions\n",
    "\n",
    "# Basic libraries\n",
    "import numpy as np\n",
    "import pandas as pd\n",
    "import xarray as xr\n",
    "import xskillscore as xs\n",
    "import dask.array as da\n",
    "from tqdm.notebook import tqdm\n",
    "\n",
    "# My local package\n",
    "from climTools.helperFunctions import *\n",
    "\n",
    "# Images and file libraries\n",
    "import glob\n",
    "from PIL import Image\n",
    "\n",
    "# Plotting libraries\n",
    "import matplotlib.pyplot as plt\n",
    "import cartopy.crs as ccrs\n",
    "\n",
    "# matplotlib ipympl\n",
    "%config InlineBackend.figure_format=\"png\""
   ]
  },
  {
   "cell_type": "markdown",
   "id": "dbd323b1-a138-483e-8f2a-34d88c155a63",
   "metadata": {},
   "source": [
    "# Load data"
   ]
  },
  {
   "cell_type": "code",
   "execution_count": null,
   "id": "ec4cb067-4519-4cc2-9d61-bcb08b3114bb",
   "metadata": {},
   "outputs": [],
   "source": [
    "tas_path = \"/homedata/pchevali/clean_data_ipsl/preprocessed/tas_day_IPSL-CM6A-LR_historical_allruns_19500101-20141231_30W_40E_30N_75N.nc\"\n",
    "tas_anom_path = \"/homedata/pchevali/clean_data_ipsl/preprocessed/tas_anom_day_IPSL-CM6A-LR_historical_allruns_19500101-20141231_30W_40E_30N_75N.nc\"\n",
    "tas = xr.open_dataset(tas_path)\n",
    "tas_anom = xr.open_dataset(tas_anom_path)"
   ]
  },
  {
   "cell_type": "code",
   "execution_count": null,
   "id": "eed1e192-a793-46c6-935d-1be7fd29ca6c",
   "metadata": {},
   "outputs": [],
   "source": [
    "zg_path = \"/homedata/pchevali/clean_data_ipsl/preprocessed/zg_day_IPSL-CM6A-LR_historical_allruns_19500101-20141231_30W_40E_30N_75N.nc\"\n",
    "zg_anom_path = \"/homedata/pchevali/clean_data_ipsl/preprocessed/zg_anom_day_IPSL-CM6A-LR_historical_allruns_19500101-20141231_30W_40E_30N_75N.nc\"\n",
    "zg = xr.open_dataset(zg_path)\n",
    "zg_anom = xr.open_dataset(zg_anom_path)"
   ]
  },
  {
   "cell_type": "code",
   "execution_count": null,
   "id": "93cbaa18-ede7-4239-8e7e-e59cff115c0f",
   "metadata": {},
   "outputs": [],
   "source": [
    "psl_path = \"/homedata/pchevali/clean_data_ipsl/preprocessed/psl_day_IPSL-CM6A-LR_historical_allruns_19500101-20141231_30W_40E_30N_75N.nc\"\n",
    "psl_anom_path = \"/homedata/pchevali/clean_data_ipsl/preprocessed/psl_anom_day_IPSL-CM6A-LR_historical_allruns_19500101-20141231_30W_40E_30N_75N.nc\"\n",
    "psl = xr.open_dataset(psl_path)\n",
    "psl_anom = xr.open_dataset(psl_anom_path)"
   ]
  },
  {
   "cell_type": "code",
   "execution_count": null,
   "id": "31e65a67-921d-49ca-9fe6-f9dc8c5eb25e",
   "metadata": {},
   "outputs": [],
   "source": [
    "mrso_path = \"/homedata/pchevali/clean_data_ipsl/preprocessed/mrso_day_IPSL-CM6A-LR_historical_allruns_19500101-20141231_30W_40E_30N_75N.nc\"\n",
    "mrso_anom_path = \"/homedata/pchevali/clean_data_ipsl/preprocessed/mrso_anom_day_IPSL-CM6A-LR_historical_allruns_19500101-20141231_30W_40E_30N_75N.nc\"\n",
    "mrso = xr.open_dataset(mrso_path)\n",
    "mrso_anom = xr.open_dataset(mrso_anom_path)"
   ]
  },
  {
   "cell_type": "code",
   "execution_count": null,
   "id": "87acd1e1-f36b-41af-8cad-ff43c55b23cc",
   "metadata": {},
   "outputs": [],
   "source": [
    "pr10_path = \"/homedata/pchevali/clean_data_ipsl/preprocessed/pr10_day_IPSL-CM6A-LR_historical_allruns_19500101-20141231_30W_40E_30N_75N.nc\"\n",
    "pr10_anom_path = \"/homedata/pchevali/clean_data_ipsl/preprocessed/pr10_anom_day_IPSL-CM6A-LR_historical_allruns_19500101-20141231_30W_40E_30N_75N.nc\"\n",
    "pr10 = xr.open_dataset(pr10_path)\n",
    "pr10_anom = xr.open_dataset(pr10_anom_path)"
   ]
  },
  {
   "cell_type": "code",
   "execution_count": null,
   "id": "766b06be-e7b8-46a3-bf09-15e840301dd5",
   "metadata": {},
   "outputs": [],
   "source": [
    "pr30_path = \"/homedata/pchevali/clean_data_ipsl/preprocessed/pr30_day_IPSL-CM6A-LR_historical_allruns_19500101-20141231_30W_40E_30N_75N.nc\"\n",
    "pr30_anom_path = \"/homedata/pchevali/clean_data_ipsl/preprocessed/pr30_anom_day_IPSL-CM6A-LR_historical_allruns_19500101-20141231_30W_40E_30N_75N.nc\"\n",
    "pr30 = xr.open_dataset(pr30_path)\n",
    "pr30_anom = xr.open_dataset(pr30_anom_path)"
   ]
  },
  {
   "cell_type": "code",
   "execution_count": null,
   "id": "420fe02f-2fae-4aab-94fd-63498ac2a770",
   "metadata": {},
   "outputs": [],
   "source": [
    "pr90_path = \"/homedata/pchevali/clean_data_ipsl/preprocessed/pr90_day_IPSL-CM6A-LR_historical_allruns_19500101-20141231_30W_40E_30N_75N.nc\"\n",
    "pr90_anom_path = \"/homedata/pchevali/clean_data_ipsl/preprocessed/pr90_anom_day_IPSL-CM6A-LR_historical_allruns_19500101-20141231_30W_40E_30N_75N.nc\"\n",
    "pr90 = xr.open_dataset(pr90_path)\n",
    "pr90_anom = xr.open_dataset(pr90_anom_path)"
   ]
  },
  {
   "cell_type": "markdown",
   "id": "7032bae8-4455-4438-acff-9f75e29a441c",
   "metadata": {},
   "source": [
    "# Identifying the biggest (independant) extremes"
   ]
  },
  {
   "cell_type": "code",
   "execution_count": null,
   "id": "838e3bb2-f6c9-4280-8ef5-94cf79ff03a6",
   "metadata": {},
   "outputs": [],
   "source": [
    "n = 30\n",
    "days_between=15\n",
    "tas_anom_paris=tas_anom.tas.sel(lat=48.88,lon=2.33,method=\"nearest\")"
   ]
  },
  {
   "cell_type": "code",
   "execution_count": null,
   "id": "f6a4604e-28b7-47ea-ba1a-bfb22d4bd80f",
   "metadata": {},
   "outputs": [],
   "source": [
    "extremes = get_indep_maxima(\n",
    "    data=tas_anom_paris, n=n, days_in_between=days_between\n",
    ")"
   ]
  },
  {
   "cell_type": "code",
   "execution_count": null,
   "id": "5f7c88b3-6361-4ccc-8043-39daf99218c7",
   "metadata": {},
   "outputs": [],
   "source": [
    "extremes"
   ]
  },
  {
   "cell_type": "code",
   "execution_count": null,
   "id": "6e22cfce-b2e8-4383-8c4d-96116ee24bd8",
   "metadata": {},
   "outputs": [],
   "source": [
    "np.unique(decode_index(extremes.index,\"run\"))"
   ]
  },
  {
   "cell_type": "markdown",
   "id": "abd9f8db-8c62-48b5-bac1-2ddd6f0bd447",
   "metadata": {},
   "source": [
    "# Plot the ts for paris"
   ]
  },
  {
   "cell_type": "code",
   "execution_count": null,
   "id": "9b22cc33-e2a3-4cb5-98d7-dc93d7438c62",
   "metadata": {},
   "outputs": [],
   "source": [
    "indexs=tas_anom_paris.time.to_index().get_indexer(extremes.index)\n",
    "plt.axhline(y=extremes.min(), color=\"r\", linestyle=\"--\", linewidth=0.5)\n",
    "plt.scatter(y=extremes, x=indexs, color=\"red\")\n",
    "plt.plot(tas_anom_paris.values,linewidth=0.1)\n",
    "# plt.xlim(8645*5,8645*6)\n",
    "plt.ylabel(\"Temperature anomaly (°C)\")\n",
    "plt.xlabel(r\"Time and Run axis\")\n",
    "plt.show()"
   ]
  },
  {
   "cell_type": "code",
   "execution_count": null,
   "id": "10810746-f832-47d5-95df-3e05db4fe7c0",
   "metadata": {},
   "outputs": [],
   "source": [
    "plt.axhline(y=extremes.min(), color=\"r\", linestyle=\"--\", linewidth=0.5)\n",
    "plt.plot(tas_anom_paris.values,\"o-\")\n",
    "plt.scatter(y=extremes, x=indexs, color=\"red\",s=100)\n",
    "plt.ylabel(\"Temperature anomaly (°C)\")\n",
    "plt.xlabel(r\"Time and Run axis\")\n",
    "plt.xlim(indexs[0]-5,indexs[0]+5)\n",
    "plt.show()"
   ]
  },
  {
   "cell_type": "markdown",
   "id": "e9d81e22-dedf-4caf-aaff-6e4d865f45d3",
   "metadata": {},
   "source": [
    "# Composite maps"
   ]
  },
  {
   "cell_type": "markdown",
   "id": "a66d0bee-7cc7-489f-b884-0a464ccb5e69",
   "metadata": {},
   "source": [
    "## Temperature"
   ]
  },
  {
   "cell_type": "markdown",
   "id": "c2997746-bc37-4cab-baab-4218d555bc66",
   "metadata": {},
   "source": [
    "### tas"
   ]
  },
  {
   "cell_type": "code",
   "execution_count": null,
   "id": "01af00f6-48a1-43f0-b486-de069d262e56",
   "metadata": {},
   "outputs": [],
   "source": [
    "plot_composite(\n",
    "    field1=tas.tas - 273.15,\n",
    "    cmap_legend=\"Temperature (°C)\",\n",
    "    lat_min=30,\n",
    "    lat_max=60,\n",
    "    lon_min=-15,\n",
    "    lon_max=15,\n",
    "    times=extremes.index,\n",
    ")"
   ]
  },
  {
   "cell_type": "markdown",
   "id": "490fa527-d2ca-4845-b33b-951b2c2c25f7",
   "metadata": {},
   "source": [
    "### tas anom"
   ]
  },
  {
   "cell_type": "code",
   "execution_count": null,
   "id": "c3de2317-57e5-46d3-9429-a422f7004b0a",
   "metadata": {},
   "outputs": [],
   "source": [
    "plot_composite(\n",
    "    field1=tas_anom.tas,\n",
    "    cmap_legend=\"Temperature Anomaly (°C)\",\n",
    "    lat_min=30,\n",
    "    lat_max=60,\n",
    "    lon_min=-15,\n",
    "    lon_max=15,\n",
    "    times=extremes.index,\n",
    ")"
   ]
  },
  {
   "cell_type": "markdown",
   "id": "eb9c5875-8d4c-47a3-9da9-860df3874cfc",
   "metadata": {},
   "source": [
    "## Sea Level Pressure"
   ]
  },
  {
   "cell_type": "markdown",
   "id": "9fd4e631-5fcb-466b-b39f-2dd95515e8ec",
   "metadata": {},
   "source": [
    "### psl"
   ]
  },
  {
   "cell_type": "code",
   "execution_count": null,
   "id": "651567b2-faf5-45e4-b8ee-2d51220cafdc",
   "metadata": {},
   "outputs": [],
   "source": [
    "plot_composite(\n",
    "    field1=psl.psl,\n",
    "    cmap_legend=\"Sea Level Pressure (Pa)\",\n",
    "    lat_min=30,\n",
    "    lat_max=75,\n",
    "    lon_min=-30,\n",
    "    lon_max=40,\n",
    "    times=extremes.index,\n",
    ")"
   ]
  },
  {
   "cell_type": "markdown",
   "id": "8c10a968-26d2-4f2a-927e-ca4d4f8821bc",
   "metadata": {},
   "source": [
    "### psl anom"
   ]
  },
  {
   "cell_type": "code",
   "execution_count": null,
   "id": "759d08a0-2684-41a4-a89b-afa11b093561",
   "metadata": {},
   "outputs": [],
   "source": [
    "plot_composite(\n",
    "    field1=psl_anom.psl,\n",
    "    cmap_legend=\"Sea Level Pressure Anomaly (Pa)\",\n",
    "    lat_min=30,\n",
    "    lat_max=75,\n",
    "    lon_min=-30,\n",
    "    lon_max=40,\n",
    "    times=extremes.index,\n",
    ")"
   ]
  },
  {
   "cell_type": "markdown",
   "id": "e13f4ed9-e8df-4002-a3e1-ffc71388e163",
   "metadata": {},
   "source": [
    "##  Soil Moisture"
   ]
  },
  {
   "cell_type": "markdown",
   "id": "3c3c4c9f-2790-41d0-b41f-be55aa579cf8",
   "metadata": {},
   "source": [
    "### mrso"
   ]
  },
  {
   "cell_type": "code",
   "execution_count": null,
   "id": "38d7ef3a-ec57-4b0c-896a-ee2281401c65",
   "metadata": {},
   "outputs": [],
   "source": [
    "plot_composite(\n",
    "    field1=mrso.mrso,\n",
    "    cmap_legend=\"Soil Moisture (kg/m2)\",\n",
    "    lat_min=40,\n",
    "    lat_max=55,\n",
    "    lon_min=-10,\n",
    "    lon_max=15,\n",
    "    times=extremes.index,\n",
    "    rev=True,\n",
    ")"
   ]
  },
  {
   "cell_type": "markdown",
   "id": "d029be33-ec3a-4aa3-b712-43fd27d1e258",
   "metadata": {},
   "source": [
    "### mrso anom"
   ]
  },
  {
   "cell_type": "code",
   "execution_count": null,
   "id": "58e9e437-2162-4fbb-9a68-507ee677956e",
   "metadata": {},
   "outputs": [],
   "source": [
    "plot_composite(\n",
    "    field1=mrso_anom.mrso,\n",
    "    cmap_legend=\"Soil Moisture Anomaly (kg/m2)\",\n",
    "    lat_min=30,\n",
    "    lat_max=60,\n",
    "    lon_min=-15,\n",
    "    lon_max=20,\n",
    "    times=extremes.index,\n",
    "    rev=True,\n",
    ")"
   ]
  },
  {
   "cell_type": "markdown",
   "id": "482a42fc-c726-47fc-b551-7d0a1324060c",
   "metadata": {},
   "source": [
    "## Geopotential Height at 500hPa"
   ]
  },
  {
   "cell_type": "markdown",
   "id": "dcb26afc-300c-4871-9457-4b6f693d91c9",
   "metadata": {},
   "source": [
    "### zg"
   ]
  },
  {
   "cell_type": "code",
   "execution_count": null,
   "id": "68a83959-bcb8-4bd6-94ec-3db22e1954d0",
   "metadata": {},
   "outputs": [],
   "source": [
    "plot_composite(\n",
    "    field1=zg.zg,\n",
    "    cmap_legend=\"Geopotential Height (m)\",\n",
    "    lat_min=30,\n",
    "    lat_max=75,\n",
    "    lon_min=-30,\n",
    "    lon_max=40,\n",
    "    times=extremes.index,\n",
    ")"
   ]
  },
  {
   "cell_type": "markdown",
   "id": "4b57c39a-c9a7-4917-aa7d-bf3ead793bfa",
   "metadata": {},
   "source": [
    "### zg anom"
   ]
  },
  {
   "cell_type": "code",
   "execution_count": null,
   "id": "be293576-e05c-4cef-8fd5-d7c7d9984c37",
   "metadata": {},
   "outputs": [],
   "source": [
    "plot_composite(\n",
    "    field1=zg_anom.zg,\n",
    "    cmap_legend=\"Geopotential Height Anomaly (m)\",\n",
    "    lat_min=30,\n",
    "    lat_max=75,\n",
    "    lon_min=-30,\n",
    "    lon_max=40,\n",
    "    times=extremes.index,\n",
    ")"
   ]
  },
  {
   "cell_type": "markdown",
   "id": "e5bcfb53-75d6-4cd2-8338-7f5a28442662",
   "metadata": {},
   "source": [
    "### zg as contours over tas"
   ]
  },
  {
   "cell_type": "code",
   "execution_count": null,
   "id": "cbd37095-d28f-4f97-b197-06a053d51713",
   "metadata": {},
   "outputs": [],
   "source": [
    "plot_composite(\n",
    "    field1=tas_anom.tas,\n",
    "    cmap_legend=\"Temperature Anomaly (°C)\",\n",
    "    lat_min=30,\n",
    "    lat_max=75,\n",
    "    lon_min=-30,\n",
    "    lon_max=40,\n",
    "    times=extremes.index,\n",
    "    field2=zg.zg,\n",
    ")"
   ]
  },
  {
   "cell_type": "markdown",
   "id": "2fce44a1-1ed5-4a1b-abc1-3679056ba5af",
   "metadata": {},
   "source": [
    "## Precipitations"
   ]
  },
  {
   "cell_type": "markdown",
   "id": "2fdacc48-f979-4fbb-8411-4648061949c8",
   "metadata": {},
   "source": [
    "### pr10"
   ]
  },
  {
   "cell_type": "code",
   "execution_count": null,
   "id": "f069acf1-8bd7-45ef-bdfb-cda62fb4e5ec",
   "metadata": {},
   "outputs": [],
   "source": [
    "plot_composite(\n",
    "    field1=pr10.pr10,\n",
    "    cmap_legend=\"Precipition over last 30 days (mm)\",\n",
    "    lat_min=30,\n",
    "    lat_max=60,\n",
    "    lon_min=-15,\n",
    "    lon_max=15,\n",
    "    times=extremes.index,\n",
    "    rev=True\n",
    ")"
   ]
  },
  {
   "cell_type": "markdown",
   "id": "c4c69fa9-ee00-4db9-bdd2-c48a38bd6b1d",
   "metadata": {},
   "source": [
    "### pr10_anom"
   ]
  },
  {
   "cell_type": "code",
   "execution_count": null,
   "id": "8c956c95-1386-4c33-80c1-95f47936c88f",
   "metadata": {},
   "outputs": [],
   "source": [
    "plot_composite(\n",
    "    field1=pr10_anom.pr10,\n",
    "    cmap_legend=\"Cumulative precipition anomaly over\\n last 10 days anomaly (mm)\",\n",
    "    lat_min=30,\n",
    "    lat_max=60,\n",
    "    lon_min=-15,\n",
    "    lon_max=15,\n",
    "    times=extremes.index,\n",
    "    rev=True,\n",
    ")"
   ]
  },
  {
   "cell_type": "markdown",
   "id": "dfbb7ade-5568-4b20-ae9a-29d7f677302e",
   "metadata": {},
   "source": [
    "### pr30"
   ]
  },
  {
   "cell_type": "code",
   "execution_count": null,
   "id": "c3370843-567c-4137-a976-fe46c9c2e9a1",
   "metadata": {},
   "outputs": [],
   "source": [
    "plot_composite(\n",
    "    field1=pr30.pr30,\n",
    "    cmap_legend=\"Precipition over last 30 days (mm)\",\n",
    "    lat_min=30,\n",
    "    lat_max=60,\n",
    "    lon_min=-15,\n",
    "    lon_max=15,\n",
    "    times=extremes.index,\n",
    "    rev=True\n",
    ")"
   ]
  },
  {
   "cell_type": "markdown",
   "id": "6353d4f4-64af-4016-b373-aefb51b9f9c2",
   "metadata": {},
   "source": [
    "### pr30_anom"
   ]
  },
  {
   "cell_type": "code",
   "execution_count": null,
   "id": "01c9a37d-c826-4e5d-907e-9671bdfda437",
   "metadata": {},
   "outputs": [],
   "source": [
    "plot_composite(\n",
    "    field1=pr30_anom.pr30,\n",
    "    cmap_legend=\"Geopotential Height (m)\",\n",
    "    lat_min=30,\n",
    "    lat_max=60,\n",
    "    lon_min=-15,\n",
    "    lon_max=15,\n",
    "    times=extremes.index,\n",
    "    rev=True,\n",
    ")"
   ]
  },
  {
   "cell_type": "markdown",
   "id": "3ecb1d8e-f2eb-4803-a3f2-a92206f3b5cc",
   "metadata": {},
   "source": [
    "### pr90"
   ]
  },
  {
   "cell_type": "code",
   "execution_count": null,
   "id": "9f6e8b02-eb15-4085-aa8f-d3de317ebd01",
   "metadata": {},
   "outputs": [],
   "source": [
    "plot_composite(\n",
    "    field1=pr90.pr90,\n",
    "    cmap_legend=\"Precipition over last 30 days (mm)\",\n",
    "    lat_min=30,\n",
    "    lat_max=60,\n",
    "    lon_min=-15,\n",
    "    lon_max=15,\n",
    "    times=extremes.index,\n",
    "    rev=True\n",
    ")"
   ]
  },
  {
   "cell_type": "markdown",
   "id": "dd9e9037-a5d0-4364-bd95-fb1cb50f919e",
   "metadata": {},
   "source": [
    "### pr90_anom"
   ]
  },
  {
   "cell_type": "code",
   "execution_count": null,
   "id": "20fe1908-3b1d-417a-b67e-cfb3e5698348",
   "metadata": {},
   "outputs": [],
   "source": [
    "plot_composite(\n",
    "    field1=pr90_anom.pr90,\n",
    "    cmap_legend=\"Geopotential Height (m)\",\n",
    "    lat_min=30,\n",
    "    lat_max=60,\n",
    "    lon_min=-15,\n",
    "    lon_max=15,\n",
    "    times=extremes.index,\n",
    "    rev=True,\n",
    ")"
   ]
  },
  {
   "cell_type": "markdown",
   "id": "385fb1c4-0932-4996-956f-0f63520454bb",
   "metadata": {},
   "source": [
    "# Maps for a single extreme"
   ]
  },
  {
   "cell_type": "code",
   "execution_count": null,
   "id": "f821b682-cffc-4438-98c1-1365e140b33d",
   "metadata": {},
   "outputs": [],
   "source": [
    "idx = 0"
   ]
  },
  {
   "cell_type": "code",
   "execution_count": null,
   "id": "70dff277-889c-4dbf-a14b-22599dda30b9",
   "metadata": {},
   "outputs": [],
   "source": [
    "extreme_date = extremes.index[idx]"
   ]
  },
  {
   "cell_type": "markdown",
   "id": "68335be0-8769-457e-925a-25377fbfaaf3",
   "metadata": {},
   "source": [
    "## Temperature"
   ]
  },
  {
   "cell_type": "markdown",
   "id": "92ee8b3d-1cf7-4e8a-96fe-8c1b470b58dd",
   "metadata": {},
   "source": [
    "### tas"
   ]
  },
  {
   "cell_type": "code",
   "execution_count": null,
   "id": "6570ad62-987c-4315-a7f0-481cd1d01d84",
   "metadata": {},
   "outputs": [],
   "source": [
    "plot_one_date(\n",
    "    field1=tas.tas - 273.15,\n",
    "    cmap_legend=\"Temperature (°C)\",\n",
    "    lat_min=30,\n",
    "    lat_max=60,\n",
    "    lon_min=-15,\n",
    "    lon_max=15,\n",
    "    time=extreme_date,\n",
    "    title=extreme_date,\n",
    ")"
   ]
  },
  {
   "cell_type": "markdown",
   "id": "a1cfbb55-e6c5-4b6a-abad-50900f6b8f33",
   "metadata": {},
   "source": [
    "### tas anom"
   ]
  },
  {
   "cell_type": "code",
   "execution_count": null,
   "id": "c4f03d80-524b-4ce8-b341-19b350b391d2",
   "metadata": {},
   "outputs": [],
   "source": [
    "plot_one_date(\n",
    "    field1=tas_anom.tas,\n",
    "    cmap_legend=\"Temperature Anomaly (°C)\",\n",
    "    lat_min=30,\n",
    "    lat_max=75,\n",
    "    lon_min=-30,\n",
    "    lon_max=40,\n",
    "    time=extreme_date,\n",
    "    title=extreme_date,\n",
    ")"
   ]
  },
  {
   "cell_type": "markdown",
   "id": "496ec08c-f411-412f-8c92-282cf50467ff",
   "metadata": {},
   "source": [
    "## Sea Level Pressure"
   ]
  },
  {
   "cell_type": "markdown",
   "id": "ae92975e-8c73-42ef-b581-3231b5796f74",
   "metadata": {},
   "source": [
    "### psl"
   ]
  },
  {
   "cell_type": "code",
   "execution_count": null,
   "id": "ccaad150-b54f-4e5f-8710-50b8980231e2",
   "metadata": {},
   "outputs": [],
   "source": [
    "plot_one_date(\n",
    "    field1=psl.psl,\n",
    "    cmap_legend=\"Sea Level Pressure (Pa)\",\n",
    "    lat_min=30,\n",
    "    lat_max=75,\n",
    "    lon_min=-30,\n",
    "    lon_max=40,\n",
    "    time=extreme_date,\n",
    "    title=extreme_date,\n",
    ")"
   ]
  },
  {
   "cell_type": "markdown",
   "id": "16afae80-f9d9-4ced-ae10-120f171ed4e6",
   "metadata": {},
   "source": [
    "### psl anom"
   ]
  },
  {
   "cell_type": "code",
   "execution_count": null,
   "id": "3b39d382-daee-46bb-b34f-344a51ca1d7c",
   "metadata": {},
   "outputs": [],
   "source": [
    "plot_one_date(\n",
    "    field1=psl_anom.psl,\n",
    "    cmap_legend=\"Sea Level Pressure Anomaly (Pa)\",\n",
    "    lat_min=30,\n",
    "    lat_max=75,\n",
    "    lon_min=-30,\n",
    "    lon_max=40,\n",
    "    time=extreme_date,\n",
    "    title=extreme_date,\n",
    ")"
   ]
  },
  {
   "cell_type": "markdown",
   "id": "57f7c79a-ff95-4fc2-b063-eb57bb5143d4",
   "metadata": {},
   "source": [
    "##  Soil Moisture"
   ]
  },
  {
   "cell_type": "markdown",
   "id": "09c16e6b-8ff6-4beb-b61d-b3bb960218f6",
   "metadata": {},
   "source": [
    "### mrso"
   ]
  },
  {
   "cell_type": "code",
   "execution_count": null,
   "id": "6229bb33-61b6-4cfb-b027-6ea857c6f828",
   "metadata": {},
   "outputs": [],
   "source": [
    "plot_one_date(\n",
    "    field1=mrso.mrso,\n",
    "    cmap_legend=\"Soil Moisture (kg/m2)\",\n",
    "    lat_min=40,\n",
    "    lat_max=55,\n",
    "    lon_min=-10,\n",
    "    lon_max=15,\n",
    "    time=extreme_date,\n",
    "    title=extreme_date,\n",
    "    rev=True,\n",
    ")"
   ]
  },
  {
   "cell_type": "markdown",
   "id": "eb40b21c-2784-4ebf-88aa-dd34f71212e4",
   "metadata": {},
   "source": [
    "### mrso anom"
   ]
  },
  {
   "cell_type": "code",
   "execution_count": null,
   "id": "9cac2b4c-dcd0-4194-8348-759f72544160",
   "metadata": {},
   "outputs": [],
   "source": [
    "plot_one_date(\n",
    "    field1=mrso_anom.mrso,\n",
    "    cmap_legend=\"Soil Moisture Anomaly (kg/m2)\",\n",
    "    lat_min=30,\n",
    "    lat_max=60,\n",
    "    lon_min=-15,\n",
    "    lon_max=20,\n",
    "    time=extreme_date,\n",
    "    title=extreme_date,\n",
    "    rev=True,\n",
    ")"
   ]
  },
  {
   "cell_type": "markdown",
   "id": "e850a5ff-a801-4b55-9895-b0f9ec49a951",
   "metadata": {},
   "source": [
    "## Geopotential Height at 500hPa"
   ]
  },
  {
   "cell_type": "markdown",
   "id": "7a943584-2282-4341-aab9-2073bd002d57",
   "metadata": {},
   "source": [
    "### zg"
   ]
  },
  {
   "cell_type": "code",
   "execution_count": null,
   "id": "ab5e3c4d-35f7-4dc6-a31c-9069711de4e0",
   "metadata": {},
   "outputs": [],
   "source": [
    "plot_one_date(\n",
    "    field1=zg.zg,\n",
    "    cmap_legend=\"Geopotential Height (m)\",\n",
    "    lat_min=30,\n",
    "    lat_max=75,\n",
    "    lon_min=-30,\n",
    "    lon_max=40,\n",
    "    time=extreme_date,\n",
    "    title=extreme_date,\n",
    ")"
   ]
  },
  {
   "cell_type": "markdown",
   "id": "2e0e2713-b74b-4974-8761-87670bf3eaee",
   "metadata": {},
   "source": [
    "### zg anom"
   ]
  },
  {
   "cell_type": "code",
   "execution_count": null,
   "id": "d82b7def-07e9-4be3-a05c-9b4a1f1529a9",
   "metadata": {},
   "outputs": [],
   "source": [
    "plot_one_date(\n",
    "    field1=zg_anom.zg,\n",
    "    cmap_legend=\"Geopotential Height Anomaly (m)\",\n",
    "    lat_min=30,\n",
    "    lat_max=75,\n",
    "    lon_min=-30,\n",
    "    lon_max=40,\n",
    "    time=extreme_date,\n",
    "    title=extreme_date,\n",
    ")"
   ]
  },
  {
   "cell_type": "markdown",
   "id": "b2c80a41-8be2-4afc-bbcb-b10eb2bb23cf",
   "metadata": {},
   "source": [
    "### zg as contours over tas"
   ]
  },
  {
   "cell_type": "code",
   "execution_count": null,
   "id": "dbfe2412-5946-4acf-8e8a-a723d377a5df",
   "metadata": {},
   "outputs": [],
   "source": [
    "plot_one_date(\n",
    "    field1=tas_anom.tas,\n",
    "    cmap_legend=\"Temperature Anomaly (°C)\",\n",
    "    lat_min=30,\n",
    "    lat_max=75,\n",
    "    lon_min=-30,\n",
    "    lon_max=40,\n",
    "    time=extreme_date,\n",
    "    title=extreme_date,\n",
    "    field2=zg.zg,\n",
    ")"
   ]
  },
  {
   "cell_type": "markdown",
   "id": "45a794f9-094e-451c-b9ac-0f7fa815cd60",
   "metadata": {},
   "source": [
    "## Precipitations"
   ]
  },
  {
   "cell_type": "markdown",
   "id": "b2d27586-8423-40c5-b227-2793a3838a9d",
   "metadata": {},
   "source": [
    "### pr10"
   ]
  },
  {
   "cell_type": "code",
   "execution_count": null,
   "id": "659142c1-4f38-4319-bff9-d9faf6fa96f1",
   "metadata": {},
   "outputs": [],
   "source": [
    "plot_one_date(\n",
    "    field1=pr10.pr10,\n",
    "    cmap_legend=\"Precipition over last 30 days (mm)\",\n",
    "    lat_min=40,\n",
    "    lat_max=52,\n",
    "    lon_min=-5,\n",
    "    lon_max=5,\n",
    "    time=extreme_date,\n",
    "    title=extreme_date,\n",
    "    rev=True\n",
    ")"
   ]
  },
  {
   "cell_type": "markdown",
   "id": "5a8d5cd9-24ba-445b-920c-939ba55d500e",
   "metadata": {},
   "source": [
    "### pr10_anom"
   ]
  },
  {
   "cell_type": "code",
   "execution_count": null,
   "id": "fb832783-a6a3-4fac-9e0d-0f8e1d90e237",
   "metadata": {},
   "outputs": [],
   "source": [
    "plot_one_date(\n",
    "    field1=pr10_anom.pr10,\n",
    "    cmap_legend=\"Geopotential Height (m)\",\n",
    "    lat_min=40,\n",
    "    lat_max=52,\n",
    "    lon_min=-5,\n",
    "    lon_max=5,\n",
    "    time=extreme_date,\n",
    "    title=extreme_date,\n",
    "    rev=True,\n",
    ")"
   ]
  },
  {
   "cell_type": "markdown",
   "id": "34af153b-f6c6-4605-8305-a26bf775971f",
   "metadata": {},
   "source": [
    "### pr30"
   ]
  },
  {
   "cell_type": "code",
   "execution_count": null,
   "id": "e2780db6-fa1f-46ec-a5bf-b4da48c2d10a",
   "metadata": {},
   "outputs": [],
   "source": [
    "plot_one_date(\n",
    "    field1=pr30.pr30,\n",
    "    cmap_legend=\"Precipition over last 30 days (mm)\",\n",
    "    lat_min=40,\n",
    "    lat_max=52,\n",
    "    lon_min=-5,\n",
    "    lon_max=5,\n",
    "    time=extreme_date,\n",
    "    title=extreme_date,\n",
    "    rev=True\n",
    ")"
   ]
  },
  {
   "cell_type": "markdown",
   "id": "b34b38fe-b516-4d73-a7ca-ced71e4f363e",
   "metadata": {},
   "source": [
    "### pr30_anom"
   ]
  },
  {
   "cell_type": "code",
   "execution_count": null,
   "id": "af07c228-0c77-416c-8ee5-f42cda7f72f1",
   "metadata": {},
   "outputs": [],
   "source": [
    "plot_one_date(\n",
    "    field1=pr30_anom.pr30,\n",
    "    cmap_legend=\"Geopotential Height (m)\",\n",
    "    lat_min=40,\n",
    "    lat_max=52,\n",
    "    lon_min=-5,\n",
    "    lon_max=5,\n",
    "    time=extreme_date,\n",
    "    title=extreme_date,\n",
    "    rev=True,\n",
    ")"
   ]
  },
  {
   "cell_type": "markdown",
   "id": "09a467e7-67dd-4ae5-ab0f-fadcf942b754",
   "metadata": {},
   "source": [
    "### pr90"
   ]
  },
  {
   "cell_type": "code",
   "execution_count": null,
   "id": "27575ff7-0d7e-4613-b119-ab05b258dabb",
   "metadata": {},
   "outputs": [],
   "source": [
    "plot_one_date(\n",
    "    field1=pr90.pr90,\n",
    "    cmap_legend=\"Precipition over last 30 days (mm)\",\n",
    "    lat_min=40,\n",
    "    lat_max=52,\n",
    "    lon_min=-5,\n",
    "    lon_max=5,\n",
    "    time=extreme_date,\n",
    "    title=extreme_date,\n",
    "    rev=True\n",
    ")"
   ]
  },
  {
   "cell_type": "markdown",
   "id": "421dae6f-3c83-40e2-91ad-048f4baaf2e3",
   "metadata": {},
   "source": [
    "### pr90_anom"
   ]
  },
  {
   "cell_type": "code",
   "execution_count": null,
   "id": "afdb5c37-bcac-45d5-8415-adb036eae7da",
   "metadata": {},
   "outputs": [],
   "source": [
    "plot_one_date(\n",
    "    field1=pr90_anom.pr90,\n",
    "    cmap_legend=\"Geopotential Height (m)\",\n",
    "    lat_min=40,\n",
    "    lat_max=52,\n",
    "    lon_min=-5,\n",
    "    lon_max=5,\n",
    "    time=extreme_date,\n",
    "    title=extreme_date,\n",
    "    rev=True,\n",
    ")"
   ]
  },
  {
   "cell_type": "markdown",
   "id": "ce5b59f1-d03d-4c93-8a32-3dec1154cfc9",
   "metadata": {},
   "source": [
    "# Composite maps of anomalies for different quantities of extremes"
   ]
  },
  {
   "cell_type": "markdown",
   "id": "330db679-f275-4e55-a697-afa310ceae40",
   "metadata": {},
   "source": [
    "### tas_anom"
   ]
  },
  {
   "cell_type": "code",
   "execution_count": null,
   "id": "e11d650b-beab-4cca-97e4-77529daef74d",
   "metadata": {},
   "outputs": [],
   "source": [
    "plot_multiple_n(\n",
    "    field=tas_anom.tas,\n",
    "    cmap_legend=\"Temperature Anomaly (°C)\",\n",
    "    lat_min=40,\n",
    "    lat_max=60,\n",
    "    lon_min=-10,\n",
    "    lon_max=10,\n",
    "    tasmax=tas_anom.tas,\n",
    "    vmin=-13,\n",
    "    vmax=13,\n",
    ")"
   ]
  },
  {
   "cell_type": "markdown",
   "id": "9e02625e-f41f-40d4-8c1e-60b5d9e4a4b4",
   "metadata": {
    "execution": {
     "iopub.execute_input": "2025-08-27T08:47:43.972685Z",
     "iopub.status.busy": "2025-08-27T08:47:43.972286Z",
     "iopub.status.idle": "2025-08-27T08:47:44.273427Z",
     "shell.execute_reply": "2025-08-27T08:47:44.272948Z",
     "shell.execute_reply.started": "2025-08-27T08:47:43.972664Z"
    }
   },
   "source": [
    "### mrso_anom"
   ]
  },
  {
   "cell_type": "code",
   "execution_count": null,
   "id": "10998608-50e0-426c-895e-45d968767af1",
   "metadata": {},
   "outputs": [],
   "source": [
    "plot_multiple_n(\n",
    "    field=mrso_anom.mrso,\n",
    "    cmap_legend=\"Soil Moisture Anomaly (kg/m2)\",\n",
    "    lat_min=40,\n",
    "    lat_max=60,\n",
    "    lon_min=-10,\n",
    "    lon_max=10,\n",
    "    tasmax=tas_anom.tas,\n",
    "    vmin=-100,\n",
    "    vmax=100,\n",
    "    rev=True,\n",
    ")"
   ]
  },
  {
   "cell_type": "markdown",
   "id": "cba7e7bc-3706-47cc-b702-dff646f20f23",
   "metadata": {},
   "source": [
    "### psl_anom"
   ]
  },
  {
   "cell_type": "code",
   "execution_count": null,
   "id": "bbd1f0db-ece1-43ae-9e21-559b411f6e07",
   "metadata": {},
   "outputs": [],
   "source": [
    "plot_multiple_n(\n",
    "    field=psl_anom.psl,\n",
    "    cmap_legend=\"Sea Level Pressure Anomaly (Pa)\",\n",
    "    lat_min=30,\n",
    "    lat_max=60,\n",
    "    lon_min=-20,\n",
    "    lon_max=30,\n",
    "    tasmax=tas_anom.tas,\n",
    "    vmin=-640,\n",
    "    vmax=640,\n",
    ")"
   ]
  },
  {
   "cell_type": "markdown",
   "id": "144b1e1c-eb57-4c49-9fc3-8fcf8f7e4561",
   "metadata": {},
   "source": [
    "### zg_anom"
   ]
  },
  {
   "cell_type": "code",
   "execution_count": null,
   "id": "4103ea8e-39bc-4468-8d83-906ccda15de4",
   "metadata": {},
   "outputs": [],
   "source": [
    "plot_multiple_n(\n",
    "    field=zg_anom.zg,\n",
    "    cmap_legend=\"Geopotential Height Anomaly (m)\",\n",
    "    lat_min=30,\n",
    "    lat_max=75,\n",
    "    lon_min=-30,\n",
    "    lon_max=40,\n",
    "    tasmax=tas_anom.tas,\n",
    "    vmin=-160,\n",
    "    vmax=200\n",
    ")"
   ]
  },
  {
   "cell_type": "markdown",
   "id": "651b0146-1235-4735-b491-260190472e34",
   "metadata": {},
   "source": [
    "### pr10_anom"
   ]
  },
  {
   "cell_type": "code",
   "execution_count": null,
   "id": "b8e0c1e5-1d71-4650-9f84-80835130891c",
   "metadata": {},
   "outputs": [],
   "source": [
    "plot_multiple_n(\n",
    "    field=pr10_anom.pr10,\n",
    "    cmap_legend=\"Precipition over last 10 days anomaly (mm)\",\n",
    "    lat_min=40,\n",
    "    lat_max=60,\n",
    "    lon_min=-10,\n",
    "    lon_max=10,\n",
    "    tasmax=tas_anom.tas,\n",
    "    rev=True,\n",
    "    vmin=-40,\n",
    "    vmax=40\n",
    ")"
   ]
  },
  {
   "cell_type": "markdown",
   "id": "d3715154-0e52-42de-bc37-11494b56ec55",
   "metadata": {},
   "source": [
    "### pr30_anom"
   ]
  },
  {
   "cell_type": "code",
   "execution_count": null,
   "id": "7dd17bd0-225b-41fc-80c2-de7ccdabd87b",
   "metadata": {},
   "outputs": [],
   "source": [
    "plot_multiple_n(\n",
    "    field=pr10_anom.pr10,\n",
    "    cmap_legend=\"Geopotential Height Anomaly (m)\",\n",
    "    lat_min=40,\n",
    "    lat_max=60,\n",
    "    lon_min=-10,\n",
    "    lon_max=10,\n",
    "    tasmax=tas_anom.tas,\n",
    "    vmin=-96,\n",
    "    vmax=96,\n",
    "    rev=True\n",
    ")"
   ]
  },
  {
   "cell_type": "markdown",
   "id": "3cbee1fe-4090-4724-9285-d757863317f9",
   "metadata": {},
   "source": [
    "### pr90_anom"
   ]
  },
  {
   "cell_type": "code",
   "execution_count": null,
   "id": "7c61dbd6-ed69-4c05-9e18-901e83e6488f",
   "metadata": {},
   "outputs": [],
   "source": [
    "plot_multiple_n(\n",
    "    field=pr90_anom.pr90,\n",
    "    cmap_legend=\"Geopotential Height Anomaly (m)\",\n",
    "    lat_min=40,\n",
    "    lat_max=60,\n",
    "    lon_min=-10,\n",
    "    lon_max=10,\n",
    "    tasmax=tas_anom.tas,\n",
    "    vmin=-240,\n",
    "    vmax=240,\n",
    "    rev=True\n",
    ")"
   ]
  },
  {
   "cell_type": "markdown",
   "id": "3cd3bc87-8ffa-4492-92f3-04ef1111672e",
   "metadata": {},
   "source": [
    "# Evolution of Rank Correlation and RMS"
   ]
  },
  {
   "cell_type": "code",
   "execution_count": null,
   "id": "1e9e85f4-97a9-4f95-a137-4df0fcbfec73",
   "metadata": {},
   "outputs": [],
   "source": [
    "fields=[zg_anom.zg,psl_anom.psl,pr90_anom.pr90,pr30_anom.pr30,pr10_anom.pr10,mrso_anom.mrso,tas_anom.tas]\n",
    "\n",
    "lats1=[30,30,42,42,42,42,42]\n",
    "lats2=[65,65,51,51,51,51,51]\n",
    "lons1=[-30,-30,-5,-5,-5,-5,-5]\n",
    "lons2=[30,30,5,5,5,5,5]\n",
    "labels=[\"zg500\",\"psl\",\"pr90\",\"pr30\",\"pr10\",\"mrso\",\"tas\"]\n",
    "col=[\"b\",\"magenta\",\"lime\",\"k\",\"chartreuse\",\"orange\",\"r\"]"
   ]
  },
  {
   "cell_type": "markdown",
   "id": "785e4fbb-861f-4bcd-b9af-86dbe4f771ac",
   "metadata": {},
   "source": [
    "Evolution of correlation and RMS as we get further away before the extremes"
   ]
  },
  {
   "cell_type": "code",
   "execution_count": null,
   "id": "a6727b0e-7d63-4678-a5dd-88a13645df4d",
   "metadata": {},
   "outputs": [],
   "source": [
    "plot_corr_evolution(fields,extremes,lats1,lats2,lons1,lons2,labels,col,20)"
   ]
  },
  {
   "cell_type": "code",
   "execution_count": null,
   "id": "0ecd25c5-a04f-4b60-9e16-7ccdacbf3fe0",
   "metadata": {},
   "outputs": [],
   "source": [
    "plot_rms_evolution(fields,extremes,lats1,lats2,lons1,lons2,labels,col,20)"
   ]
  },
  {
   "cell_type": "markdown",
   "id": "d71717d6-08ff-4a9b-a74f-084afaf1002b",
   "metadata": {},
   "source": [
    "# Evolution before an extreme event "
   ]
  },
  {
   "cell_type": "code",
   "execution_count": null,
   "id": "5812c00e-4642-42bb-b957-066462fbade0",
   "metadata": {},
   "outputs": [],
   "source": [
    "taus = range(12)\n",
    "for i in range(5):\n",
    "    for tau in reversed(taus):\n",
    "        save_path = f\"/scratchx/pchevali/tests_gif/test_tau_{11-tau}.png\"\n",
    "        extremes_tau_before = add_days_from_index(extremes.index[i],-tau)\n",
    "        plot_one_date_3fields(\n",
    "            field1=tas_anom.tas,\n",
    "            cmap_legend1=\"Temperature Anomaly (K)\",\n",
    "            cmap_legend2=\"Soil Moisture Anomaly (kg/m2)\",\n",
    "            lat_min2=38,\n",
    "            lat_max2=52,\n",
    "            lon_min2=-5,\n",
    "            lon_max2=10,\n",
    "            lat_min1=30,\n",
    "            lat_max1=65,\n",
    "            lon_min1=-30,\n",
    "            lon_max1=30,\n",
    "            times=extremes_tau_before,\n",
    "            save=save_path,\n",
    "            vmin1=tas_anom.tas.sel(lat=48.8,lon=2.3,method=\"nearest\").min(),\n",
    "            vmax1=tas_anom.tas.sel(lat=48.8,lon=2.3,method=\"nearest\").max(),\n",
    "            vmin2=mrso_anom.mrso.sel(lat=48.8,lon=2.3,method=\"nearest\").min(),\n",
    "            vmax2=mrso_anom.mrso.sel(lat=48.8,lon=2.3,method=\"nearest\").max(),\n",
    "            field2=zg_anom.zg,\n",
    "            field3=mrso_anom.mrso,\n",
    "            title=str(tau) + \" days before\",\n",
    "            field4=psl_anom.psl,\n",
    "            lat_min3=30,\n",
    "            lat_max3=65,\n",
    "            lon_min3=-30,\n",
    "            lon_max3=30,\n",
    "            cmap_legend3=\"Sea Level Pressure Anomaly (Pa)\",\n",
    "            vmin3=psl_anom.sel(lat=48.8,lon=2.3,method=\"nearest\").psl.min(),\n",
    "            vmax3=psl_anom.sel(lat=48.8,lon=2.3,method=\"nearest\").psl.max(),\n",
    "            plot=False,\n",
    "        )\n",
    "    create_gif(\n",
    "        \"/scratchx/pchevali/tests_gif\",\n",
    "        f\"/scratchx/pchevali/tests_gif/{i}.gif\",\n",
    "        duration=500)"
   ]
  }
 ],
 "metadata": {
  "kernelspec": {
   "display_name": "Python 3",
   "language": "python",
   "name": "python3"
  },
  "language_info": {
   "codemirror_mode": {
    "name": "ipython",
    "version": 3
   },
   "file_extension": ".py",
   "mimetype": "text/x-python",
   "name": "python",
   "nbconvert_exporter": "python",
   "pygments_lexer": "ipython3",
   "version": "3.11.7"
  }
 },
 "nbformat": 4,
 "nbformat_minor": 5
}
