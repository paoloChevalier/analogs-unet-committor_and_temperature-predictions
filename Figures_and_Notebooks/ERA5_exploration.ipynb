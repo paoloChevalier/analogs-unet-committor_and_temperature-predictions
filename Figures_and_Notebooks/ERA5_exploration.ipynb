{
 "cells": [
  {
   "cell_type": "markdown",
   "id": "a62d2fe0-2474-45df-ad70-7051640d8e82",
   "metadata": {},
   "source": [
    "# Load packages and utils"
   ]
  },
  {
   "cell_type": "code",
   "execution_count": null,
   "id": "5be65d86-f9c7-4bc5-b514-df537fb5809f",
   "metadata": {},
   "outputs": [],
   "source": [
    "# To reload local package without restarting kernel every time\n",
    "%load_ext autoreload\n",
    "%autoreload 1\n",
    "%aimport climTools.helperFunctions\n",
    "\n",
    "# Basic libraries\n",
    "import numpy as np\n",
    "import pandas as pd\n",
    "import xarray as xr\n",
    "import xskillscore as xs\n",
    "import dask.array as da\n",
    "from tqdm.notebook import tqdm\n",
    "\n",
    "# My local package\n",
    "from climTools.helperFunctions import *\n",
    "\n",
    "# Images and file libraries\n",
    "import glob\n",
    "from PIL import Image\n",
    "\n",
    "# Plotting libraries\n",
    "import matplotlib.pyplot as plt\n",
    "import cartopy.crs as ccrs\n",
    "\n",
    "# matplotlib ipympl\n",
    "%config InlineBackend.figure_format=\"png\""
   ]
  },
  {
   "cell_type": "markdown",
   "id": "a669e772-afb5-4cd8-a62c-b65823d2e3f4",
   "metadata": {},
   "source": [
    "# Load data"
   ]
  },
  {
   "cell_type": "code",
   "execution_count": null,
   "id": "fcfb4f09-b4db-45c5-8373-1a8090e4ac94",
   "metadata": {},
   "outputs": [],
   "source": [
    "tas_path = \"/homedata/pchevali/ERA5/preprocessed/era5_tas_daily_eu.nc\"\n",
    "tas_anom_path = \"/homedata/pchevali/ERA5/preprocessed/era5_tas_anom_daily_eu.nc\"\n",
    "tas = xr.open_dataset(tas_path)\n",
    "tas_anom = xr.open_dataset(tas_anom_path)"
   ]
  },
  {
   "cell_type": "code",
   "execution_count": null,
   "id": "1ce2dce1-7377-4a2c-9332-ecf2a221e9c6",
   "metadata": {},
   "outputs": [],
   "source": [
    "zg_path = \"/homedata/pchevali/ERA5/preprocessed/era5_zg_daily_eu.nc\"\n",
    "zg_anom_path = \"/homedata/pchevali/ERA5/preprocessed/era5_zg_anom_daily_eu.nc\"\n",
    "zg = xr.open_dataset(zg_path)\n",
    "zg_anom = xr.open_dataset(zg_anom_path)"
   ]
  },
  {
   "cell_type": "code",
   "execution_count": null,
   "id": "6a665291-bb52-4167-bc46-61210f1c13b9",
   "metadata": {},
   "outputs": [],
   "source": [
    "psl_path = \"/homedata/pchevali/ERA5/preprocessed/era5_psl_daily_eu.nc\"\n",
    "psl = xr.open_dataset(psl_path)\n",
    "psl_anom_path = \"/homedata/pchevali/ERA5/preprocessed/era5_psl_anom_daily_eu.nc\"\n",
    "psl_anom = xr.open_dataset(psl_anom_path)"
   ]
  },
  {
   "cell_type": "code",
   "execution_count": null,
   "id": "bc6db187-f167-4c34-8858-a534899711a1",
   "metadata": {},
   "outputs": [],
   "source": [
    "pr90_path = \"/homedata/pchevali/ERA5/preprocessed/era5_pr90_daily_eu.nc\"\n",
    "pr90 = xr.open_dataset(pr90_path)\n",
    "pr90_anom_path = \"/homedata/pchevali/ERA5/preprocessed/era5_pr90_anom_daily_eu.nc\"\n",
    "pr90_anom = xr.open_dataset(pr90_anom_path)"
   ]
  },
  {
   "cell_type": "code",
   "execution_count": null,
   "id": "41ddfd83-0f9f-4a7d-b8a3-924b45c05fd6",
   "metadata": {},
   "outputs": [],
   "source": [
    "pr30_path = \"/homedata/pchevali/ERA5/preprocessed/era5_pr30_daily_eu.nc\"\n",
    "pr30 = xr.open_dataset(pr30_path)\n",
    "pr30_anom_path = \"/homedata/pchevali/ERA5/preprocessed/era5_pr30_anom_daily_eu.nc\"\n",
    "pr30_anom = xr.open_dataset(pr30_anom_path)"
   ]
  },
  {
   "cell_type": "code",
   "execution_count": null,
   "id": "8764cdda-a348-45d3-a225-77a37f5016ac",
   "metadata": {},
   "outputs": [],
   "source": [
    "pr10_path = \"/homedata/pchevali/ERA5/preprocessed/era5_pr10_daily_eu.nc\"\n",
    "pr10 = xr.open_dataset(pr10_path)\n",
    "pr10_anom_path = \"/homedata/pchevali/ERA5/preprocessed/era5_pr10_anom_daily_eu.nc\"\n",
    "pr10_anom = xr.open_dataset(pr10_anom_path)"
   ]
  },
  {
   "cell_type": "code",
   "execution_count": null,
   "id": "e62890ef-c925-4df0-9fc8-1408df280097",
   "metadata": {},
   "outputs": [],
   "source": [
    "mrso_path = \"/homedata/pchevali/ERA5/preprocessed/era5_mrso_daily_eu.nc\"\n",
    "mrso = xr.open_dataset(mrso_path)\n",
    "mrso_anom_path = \"/homedata/pchevali/ERA5/preprocessed/era5_mrso_anom_daily_eu.nc\"\n",
    "mrso_anom = xr.open_dataset(mrso_anom_path)"
   ]
  },
  {
   "cell_type": "markdown",
   "id": "633b526b-8e22-40e7-b45b-7056ccc3c00e",
   "metadata": {},
   "source": [
    "# Identifying the biggest (independant) extremes"
   ]
  },
  {
   "cell_type": "code",
   "execution_count": null,
   "id": "f8e0d0e6-a5aa-46f1-8b04-074ed4d27856",
   "metadata": {},
   "outputs": [],
   "source": [
    "n = 5\n",
    "days_between=15\n",
    "tas_anom_paris=tas_anom.tas.sel(lat=48.88,lon=2.33,method=\"nearest\")"
   ]
  },
  {
   "cell_type": "code",
   "execution_count": null,
   "id": "322485ea-650e-4e05-81f4-b50ed0291621",
   "metadata": {},
   "outputs": [],
   "source": [
    "extremes = get_indep_maxima(\n",
    "    data=tas_anom_paris, n=n, days_in_between=days_between\n",
    ")"
   ]
  },
  {
   "cell_type": "code",
   "execution_count": null,
   "id": "08ad838e-27e4-4cc8-91ed-a003fce4109b",
   "metadata": {},
   "outputs": [],
   "source": [
    "extremes"
   ]
  },
  {
   "cell_type": "markdown",
   "id": "39982727-b4a4-4c3d-867a-2ddac5239e0c",
   "metadata": {},
   "source": [
    "# Plot the ts for paris"
   ]
  },
  {
   "cell_type": "code",
   "execution_count": null,
   "id": "092d727f-fcdc-40fd-a598-3dac8d4356a2",
   "metadata": {},
   "outputs": [],
   "source": [
    "indexs=tas_anom_paris.time.to_index().get_indexer(extremes.index)\n",
    "plt.plot(tas_anom_paris.values,linewidth=0.1)\n",
    "plt.axhline(y=extremes.min(), color=\"r\", linestyle=\"--\", linewidth=0.5)\n",
    "plt.scatter(y=extremes, x=indexs, color=\"red\")\n",
    "plt.ylabel(\"Temperature anomaly (°C)\")\n",
    "plt.xlabel(r\"Time ($run \\times 10^8 + year \\times 10^4 + month \\times 10^2 + day$)\")\n",
    "plt.xlabel(r\"Time index\")\n",
    "plt.show()"
   ]
  },
  {
   "cell_type": "code",
   "execution_count": null,
   "id": "ce9c2261-cbb4-428f-9311-1c96153c837b",
   "metadata": {},
   "outputs": [],
   "source": [
    "indexs=tas_anom_paris.time.to_index().get_indexer(extremes.index)\n",
    "plt.plot(tas_anom_paris.values,\"o-\",linewidth=1)\n",
    "plt.axhline(y=extremes.min(), color=\"r\", linestyle=\"--\", linewidth=0.5)\n",
    "plt.scatter(y=extremes, x=indexs, color=\"red\")\n",
    "plt.xlim(9240,9260)\n",
    "plt.ylabel(\"Temperature anomaly (°C)\")\n",
    "plt.xlabel(r\"Time ($run \\times 10^8 + year \\times 10^4 + month \\times 10^2 + day$)\")\n",
    "plt.show()"
   ]
  },
  {
   "cell_type": "markdown",
   "id": "75082be2-f2c8-473e-8887-76f34e8ce41a",
   "metadata": {},
   "source": [
    "# Composite maps"
   ]
  },
  {
   "cell_type": "markdown",
   "id": "f8d19a8a-af1e-41a9-aa5a-16e0b9bb6672",
   "metadata": {},
   "source": [
    "## Temperature"
   ]
  },
  {
   "cell_type": "markdown",
   "id": "9ad7c1dd-d01f-47f7-a3ef-a0c07714b417",
   "metadata": {},
   "source": [
    "### tas"
   ]
  },
  {
   "cell_type": "code",
   "execution_count": null,
   "id": "d7202c8b-2b4e-4e90-884b-5dce8fc20ace",
   "metadata": {},
   "outputs": [],
   "source": [
    "plot_composite(\n",
    "    field1=tas.tas - 273.15,\n",
    "    cmap_legend=\"Temperature (°C)\",\n",
    "    lat_min=30,\n",
    "    lat_max=60,\n",
    "    lon_min=-15,\n",
    "    lon_max=15,\n",
    "    times=extremes.index,\n",
    ")"
   ]
  },
  {
   "cell_type": "markdown",
   "id": "6111182c-4e72-4b12-b1ca-070ee2ee8a87",
   "metadata": {},
   "source": [
    "### tas anom"
   ]
  },
  {
   "cell_type": "code",
   "execution_count": null,
   "id": "a7342717-faa6-447e-8182-553bef44732f",
   "metadata": {},
   "outputs": [],
   "source": [
    "plot_composite(\n",
    "    field1=tas_anom.tas,\n",
    "    cmap_legend=\"Temperature Anomaly (°C)\",\n",
    "    lat_min=30,\n",
    "    lat_max=60,\n",
    "    lon_min=-15,\n",
    "    lon_max=15,\n",
    "    times=extremes.index,\n",
    ")"
   ]
  },
  {
   "cell_type": "markdown",
   "id": "44a576b9-127b-450d-92e6-9794a0f29403",
   "metadata": {},
   "source": [
    "## Sea Level Pressure"
   ]
  },
  {
   "cell_type": "markdown",
   "id": "aceb7718-3d61-4b19-88b3-dc9f819eac62",
   "metadata": {},
   "source": [
    "### psl"
   ]
  },
  {
   "cell_type": "code",
   "execution_count": null,
   "id": "5d3e7dce-cfba-4c21-b5cc-320bcfe38569",
   "metadata": {},
   "outputs": [],
   "source": [
    "plot_composite(\n",
    "    field1=psl.psl,\n",
    "    cmap_legend=\"Sea Level Pressure (Pa)\",\n",
    "    lat_min=30,\n",
    "    lat_max=75,\n",
    "    lon_min=-30,\n",
    "    lon_max=40,\n",
    "    times=extremes.index,\n",
    ")"
   ]
  },
  {
   "cell_type": "markdown",
   "id": "7da1cd6a-cff4-4c20-b4e3-a1fd218ed1f3",
   "metadata": {},
   "source": [
    "### psl anom"
   ]
  },
  {
   "cell_type": "code",
   "execution_count": null,
   "id": "737775be-07c9-444f-9a71-6599f9194397",
   "metadata": {},
   "outputs": [],
   "source": [
    "plot_composite(\n",
    "    field1=psl_anom.psl,\n",
    "    cmap_legend=\"Sea Level Pressure Anomaly (Pa)\",\n",
    "    lat_min=30,\n",
    "    lat_max=75,\n",
    "    lon_min=-30,\n",
    "    lon_max=40,\n",
    "    times=extremes.index,\n",
    ")"
   ]
  },
  {
   "cell_type": "markdown",
   "id": "da833855-f6d4-4645-a2fa-9a854ac686c1",
   "metadata": {},
   "source": [
    "##  Soil Moisture"
   ]
  },
  {
   "cell_type": "markdown",
   "id": "26485e4d-372c-4023-bf4d-1b4f011f56a0",
   "metadata": {},
   "source": [
    "### mrso"
   ]
  },
  {
   "cell_type": "code",
   "execution_count": null,
   "id": "27661031-64b4-42fd-946c-d87a982b91c7",
   "metadata": {},
   "outputs": [],
   "source": [
    "plot_composite(\n",
    "    field1=mrso.mrso,\n",
    "    cmap_legend=\"Soil Moisture (kg/m2)\",\n",
    "    lat_min=40,\n",
    "    lat_max=55,\n",
    "    lon_min=-10,\n",
    "    lon_max=15,\n",
    "    times=extremes.index,\n",
    "    rev=True,\n",
    ")"
   ]
  },
  {
   "cell_type": "markdown",
   "id": "c0b036fa-2fec-4134-b3c9-00dea9fea12b",
   "metadata": {},
   "source": [
    "### mrso anom"
   ]
  },
  {
   "cell_type": "code",
   "execution_count": null,
   "id": "896ae7fc-9ab9-41da-80b2-d2cd8c35d41f",
   "metadata": {},
   "outputs": [],
   "source": [
    "plot_composite(\n",
    "    field1=mrso_anom.mrso,\n",
    "    cmap_legend=\"Soil Moisture Anomaly (kg/m2)\",\n",
    "    lat_min=30,\n",
    "    lat_max=60,\n",
    "    lon_min=-15,\n",
    "    lon_max=20,\n",
    "    times=extremes.index,\n",
    "    rev=True,\n",
    ")"
   ]
  },
  {
   "cell_type": "markdown",
   "id": "f931e20f-6871-47a7-9536-6de129495997",
   "metadata": {},
   "source": [
    "## Geopotential Height at 500hPa"
   ]
  },
  {
   "cell_type": "markdown",
   "id": "1d654a66-ba49-4400-929c-6ae4907fc300",
   "metadata": {},
   "source": [
    "### zg"
   ]
  },
  {
   "cell_type": "code",
   "execution_count": null,
   "id": "94dbaf83-bc3f-4843-b23d-ca379b0edeb5",
   "metadata": {},
   "outputs": [],
   "source": [
    "plot_composite(\n",
    "    field1=zg.zg,\n",
    "    cmap_legend=\"Geopotential Height (m)\",\n",
    "    lat_min=30,\n",
    "    lat_max=75,\n",
    "    lon_min=-30,\n",
    "    lon_max=40,\n",
    "    times=extremes.index,\n",
    ")"
   ]
  },
  {
   "cell_type": "markdown",
   "id": "717a9b99-983d-4494-9fcc-dfec1fa9df4d",
   "metadata": {},
   "source": [
    "### zg anom"
   ]
  },
  {
   "cell_type": "code",
   "execution_count": null,
   "id": "8212405a-1725-4cea-9ea8-71d3573b6c0c",
   "metadata": {},
   "outputs": [],
   "source": [
    "plot_composite(\n",
    "    field1=zg_anom.zg,\n",
    "    cmap_legend=\"Geopotential Height Anomaly (m)\",\n",
    "    lat_min=30,\n",
    "    lat_max=75,\n",
    "    lon_min=-30,\n",
    "    lon_max=40,\n",
    "    times=extremes.index,\n",
    ")"
   ]
  },
  {
   "cell_type": "markdown",
   "id": "511371c4-414f-4ccc-b224-0e3fbbc10c45",
   "metadata": {},
   "source": [
    "### zg as contours over tas"
   ]
  },
  {
   "cell_type": "code",
   "execution_count": null,
   "id": "b074ce6a-9f6a-4c08-81d9-5db5e77a6b0a",
   "metadata": {},
   "outputs": [],
   "source": [
    "plot_composite(\n",
    "    field1=tas_anom.tas,\n",
    "    cmap_legend=\"Temperature Anomaly (°C)\",\n",
    "    lat_min=30,\n",
    "    lat_max=75,\n",
    "    lon_min=-30,\n",
    "    lon_max=40,\n",
    "    times=extremes.index,\n",
    "    field2=zg.zg,\n",
    ")"
   ]
  },
  {
   "cell_type": "markdown",
   "id": "0a67c40a-b38d-4fa4-8fce-07288bb4ecb6",
   "metadata": {},
   "source": [
    "## Precipitations"
   ]
  },
  {
   "cell_type": "markdown",
   "id": "f7422992-e053-49f0-86a2-9907d94b3fe4",
   "metadata": {},
   "source": [
    "### pr10"
   ]
  },
  {
   "cell_type": "code",
   "execution_count": null,
   "id": "e07e36bb-fa57-47bf-9e66-8b815429927b",
   "metadata": {},
   "outputs": [],
   "source": [
    "plot_composite(\n",
    "    field1=pr10.pr10,\n",
    "    cmap_legend=\"Precipition over last 30 days (mm)\",\n",
    "    lat_min=40,\n",
    "    lat_max=52,\n",
    "    lon_min=-5,\n",
    "    lon_max=5,\n",
    "    times=extremes.index,\n",
    "    rev=True\n",
    ")"
   ]
  },
  {
   "cell_type": "markdown",
   "id": "9728dc29-c464-4727-9eb2-2b476a18eb89",
   "metadata": {},
   "source": [
    "### pr10_anom"
   ]
  },
  {
   "cell_type": "code",
   "execution_count": null,
   "id": "848fee77-fd70-43cb-9d24-cae5f0206895",
   "metadata": {},
   "outputs": [],
   "source": [
    "plot_composite(\n",
    "    field1=pr10_anom.pr10,\n",
    "    cmap_legend=\"Geopotential Height (m)\",\n",
    "    lat_min=40,\n",
    "    lat_max=52,\n",
    "    lon_min=-5,\n",
    "    lon_max=5,\n",
    "    times=extremes.index,\n",
    "    rev=True,\n",
    ")"
   ]
  },
  {
   "cell_type": "markdown",
   "id": "3b70d116-c0be-442b-9ff2-2edb32080ce4",
   "metadata": {},
   "source": [
    "### pr30"
   ]
  },
  {
   "cell_type": "code",
   "execution_count": null,
   "id": "41ea3097-16b7-4b7c-9ac9-aaf839124bbe",
   "metadata": {},
   "outputs": [],
   "source": [
    "plot_composite(\n",
    "    field1=pr30.pr30,\n",
    "    cmap_legend=\"Precipition over last 30 days (mm)\",\n",
    "    lat_min=40,\n",
    "    lat_max=52,\n",
    "    lon_min=-5,\n",
    "    lon_max=5,\n",
    "    times=extremes.index,\n",
    "    rev=True\n",
    ")"
   ]
  },
  {
   "cell_type": "markdown",
   "id": "775bb765-9ccf-4708-9111-35c162196c90",
   "metadata": {},
   "source": [
    "### pr30_anom"
   ]
  },
  {
   "cell_type": "code",
   "execution_count": null,
   "id": "fde66ec0-aaaf-47aa-bbba-700d4691ceb2",
   "metadata": {},
   "outputs": [],
   "source": [
    "plot_composite(\n",
    "    field1=pr30_anom.pr30,\n",
    "    cmap_legend=\"Geopotential Height (m)\",\n",
    "    lat_min=40,\n",
    "    lat_max=52,\n",
    "    lon_min=-5,\n",
    "    lon_max=5,\n",
    "    times=extremes.index,\n",
    "    rev=True,\n",
    ")"
   ]
  },
  {
   "cell_type": "markdown",
   "id": "4e4322d8-c890-44c0-aeb1-e427e9ed2312",
   "metadata": {},
   "source": [
    "### pr90"
   ]
  },
  {
   "cell_type": "code",
   "execution_count": null,
   "id": "51f4b125-14f6-4d9e-8969-9ac01e9fb1c7",
   "metadata": {},
   "outputs": [],
   "source": [
    "plot_composite(\n",
    "    field1=pr90.pr90,\n",
    "    cmap_legend=\"Precipition over last 30 days (mm)\",\n",
    "    lat_min=40,\n",
    "    lat_max=52,\n",
    "    lon_min=-5,\n",
    "    lon_max=5,\n",
    "    times=extremes.index,\n",
    "    rev=True\n",
    ")"
   ]
  },
  {
   "cell_type": "markdown",
   "id": "76bb0788-2132-40b6-84d0-c4e628a083e2",
   "metadata": {},
   "source": [
    "### pr90_anom"
   ]
  },
  {
   "cell_type": "code",
   "execution_count": null,
   "id": "46e0e461-5329-49ee-9b30-2daaf169e4a1",
   "metadata": {},
   "outputs": [],
   "source": [
    "plot_composite(\n",
    "    field1=pr90_anom.pr90,\n",
    "    cmap_legend=\"Geopotential Height (m)\",\n",
    "    lat_min=40,\n",
    "    lat_max=52,\n",
    "    lon_min=-5,\n",
    "    lon_max=5,\n",
    "    times=extremes.index,\n",
    "    rev=True,\n",
    ")"
   ]
  },
  {
   "cell_type": "markdown",
   "id": "88fd2a3f-be5f-4ad8-bac2-06a2b840c1a1",
   "metadata": {},
   "source": [
    "# Maps for a single extreme"
   ]
  },
  {
   "cell_type": "code",
   "execution_count": null,
   "id": "35723094-c8b5-415e-80d7-73f27773f4fc",
   "metadata": {},
   "outputs": [],
   "source": [
    "idx = 0"
   ]
  },
  {
   "cell_type": "code",
   "execution_count": null,
   "id": "b9e61699-acf4-47a9-8237-db8fa3375e3e",
   "metadata": {},
   "outputs": [],
   "source": [
    "extreme_date = extremes.index[idx]"
   ]
  },
  {
   "cell_type": "markdown",
   "id": "ab2cae44-a5bc-4cd4-a754-7efd33731ecf",
   "metadata": {},
   "source": [
    "## Temperature"
   ]
  },
  {
   "cell_type": "markdown",
   "id": "ad96a363-cfc2-442b-baa8-dbe8b327c1c9",
   "metadata": {},
   "source": [
    "### tas"
   ]
  },
  {
   "cell_type": "code",
   "execution_count": null,
   "id": "7b42c243-23a8-4270-ab36-263b28e1cc2a",
   "metadata": {},
   "outputs": [],
   "source": [
    "plot_one_date(\n",
    "    field1=tas.tas - 273.15,\n",
    "    cmap_legend=\"Temperature (°C)\",\n",
    "    lat_min=30,\n",
    "    lat_max=60,\n",
    "    lon_min=-15,\n",
    "    lon_max=15,\n",
    "    time=extreme_date,\n",
    "    title=extreme_date,\n",
    ")"
   ]
  },
  {
   "cell_type": "markdown",
   "id": "70ab0b59-c63b-4f95-a916-998ba9552293",
   "metadata": {},
   "source": [
    "### tas anom"
   ]
  },
  {
   "cell_type": "code",
   "execution_count": null,
   "id": "0507f450-0aea-4d37-b6ec-41abeb69ed3e",
   "metadata": {},
   "outputs": [],
   "source": [
    "plot_one_date(\n",
    "    field1=tas_anom.tas,\n",
    "    cmap_legend=\"Temperature Anomaly (°C)\",\n",
    "    lat_min=30,\n",
    "    lat_max=75,\n",
    "    lon_min=-30,\n",
    "    lon_max=40,\n",
    "    time=extreme_date,\n",
    "    title=extreme_date,\n",
    ")"
   ]
  },
  {
   "cell_type": "markdown",
   "id": "2370bcca-6282-4959-841b-6df153af9d38",
   "metadata": {},
   "source": [
    "## Sea Level Pressure"
   ]
  },
  {
   "cell_type": "markdown",
   "id": "e5bd5ba6-a670-4536-90c6-9efeb9f1af49",
   "metadata": {},
   "source": [
    "### psl"
   ]
  },
  {
   "cell_type": "code",
   "execution_count": null,
   "id": "bb337f5b-498a-40e2-aafe-730a303c3abe",
   "metadata": {},
   "outputs": [],
   "source": [
    "plot_one_date(\n",
    "    field1=psl.psl,\n",
    "    cmap_legend=\"Sea Level Pressure (Pa)\",\n",
    "    lat_min=30,\n",
    "    lat_max=75,\n",
    "    lon_min=-30,\n",
    "    lon_max=40,\n",
    "    time=extreme_date,\n",
    "    title=extreme_date,\n",
    ")"
   ]
  },
  {
   "cell_type": "markdown",
   "id": "f0e42829-840a-45c6-9b53-f33e36c65b93",
   "metadata": {},
   "source": [
    "### psl anom"
   ]
  },
  {
   "cell_type": "code",
   "execution_count": null,
   "id": "5162c030-f242-4a81-9bff-7046bfe26bec",
   "metadata": {},
   "outputs": [],
   "source": [
    "plot_one_date(\n",
    "    field1=psl_anom.psl,\n",
    "    cmap_legend=\"Sea Level Pressure Anomaly (Pa)\",\n",
    "    lat_min=30,\n",
    "    lat_max=75,\n",
    "    lon_min=-30,\n",
    "    lon_max=40,\n",
    "    time=extreme_date,\n",
    "    title=extreme_date,\n",
    ")"
   ]
  },
  {
   "cell_type": "markdown",
   "id": "b1e6a1f9-8743-4dcb-ada5-10e1afb81c6a",
   "metadata": {},
   "source": [
    "##  Soil Moisture"
   ]
  },
  {
   "cell_type": "markdown",
   "id": "13e9a101-8eda-4aa5-9f1f-73f643d7f796",
   "metadata": {},
   "source": [
    "### mrso"
   ]
  },
  {
   "cell_type": "code",
   "execution_count": null,
   "id": "f171c445-920e-40f8-babd-d6118747f374",
   "metadata": {},
   "outputs": [],
   "source": [
    "plot_one_date(\n",
    "    field1=mrso.mrso,\n",
    "    cmap_legend=\"Soil Moisture (kg/m2)\",\n",
    "    lat_min=40,\n",
    "    lat_max=55,\n",
    "    lon_min=-10,\n",
    "    lon_max=15,\n",
    "    time=extreme_date,\n",
    "    title=extreme_date,\n",
    "    rev=True,\n",
    ")"
   ]
  },
  {
   "cell_type": "markdown",
   "id": "b94ffeb2-24bc-4421-a722-7bccaed2403a",
   "metadata": {},
   "source": [
    "### mrso anom"
   ]
  },
  {
   "cell_type": "code",
   "execution_count": null,
   "id": "5cd014ec-636d-49d1-9609-d9245f96f981",
   "metadata": {},
   "outputs": [],
   "source": [
    "plot_one_date(\n",
    "    field1=mrso_anom.mrso,\n",
    "    cmap_legend=\"Soil Moisture Anomaly (kg/m2)\",\n",
    "    lat_min=30,\n",
    "    lat_max=60,\n",
    "    lon_min=-15,\n",
    "    lon_max=20,\n",
    "    time=extreme_date,\n",
    "    title=extreme_date,\n",
    "    rev=True,\n",
    ")"
   ]
  },
  {
   "cell_type": "markdown",
   "id": "6685126b-1940-4266-ab4a-174dd0751ff6",
   "metadata": {},
   "source": [
    "## Geopotential Height at 500hPa"
   ]
  },
  {
   "cell_type": "markdown",
   "id": "8f1d42f7-10ed-4011-b23b-183885690bfc",
   "metadata": {},
   "source": [
    "### zg"
   ]
  },
  {
   "cell_type": "code",
   "execution_count": null,
   "id": "8015b504-c68d-4fc1-8b3c-9733431e0900",
   "metadata": {},
   "outputs": [],
   "source": [
    "plot_one_date(\n",
    "    field1=zg.zg,\n",
    "    cmap_legend=\"Geopotential Height (m)\",\n",
    "    lat_min=30,\n",
    "    lat_max=75,\n",
    "    lon_min=-30,\n",
    "    lon_max=40,\n",
    "    time=extreme_date,\n",
    "    title=extreme_date,\n",
    ")"
   ]
  },
  {
   "cell_type": "markdown",
   "id": "0ec78b01-1a48-42cc-8bfe-da01bb838500",
   "metadata": {},
   "source": [
    "### zg anom"
   ]
  },
  {
   "cell_type": "code",
   "execution_count": null,
   "id": "c7f89fbf-3842-4942-9534-1d01dfdb3303",
   "metadata": {},
   "outputs": [],
   "source": [
    "plot_one_date(\n",
    "    field1=zg_anom.zg,\n",
    "    cmap_legend=\"Geopotential Height Anomaly (m)\",\n",
    "    lat_min=30,\n",
    "    lat_max=75,\n",
    "    lon_min=-30,\n",
    "    lon_max=40,\n",
    "    time=extreme_date,\n",
    "    title=extreme_date,\n",
    ")"
   ]
  },
  {
   "cell_type": "markdown",
   "id": "1c5a6f70-3fee-4c07-8fdb-eff91a551409",
   "metadata": {},
   "source": [
    "### zg as contours over tas"
   ]
  },
  {
   "cell_type": "code",
   "execution_count": null,
   "id": "da48c896-a327-4452-80ed-5ea50cf34d2d",
   "metadata": {},
   "outputs": [],
   "source": [
    "plot_one_date(\n",
    "    field1=tas_anom.tas,\n",
    "    cmap_legend=\"Temperature Anomaly (°C)\",\n",
    "    lat_min=30,\n",
    "    lat_max=75,\n",
    "    lon_min=-30,\n",
    "    lon_max=40,\n",
    "    time=extreme_date,\n",
    "    title=extreme_date,\n",
    "    field2=zg.zg,\n",
    ")"
   ]
  },
  {
   "cell_type": "markdown",
   "id": "eda94894-88a6-4584-9019-1a8f5227c2d8",
   "metadata": {},
   "source": [
    "## Precipitations"
   ]
  },
  {
   "cell_type": "markdown",
   "id": "a0130b87-3d38-436f-b24e-88c379fd14cd",
   "metadata": {},
   "source": [
    "### pr10"
   ]
  },
  {
   "cell_type": "code",
   "execution_count": null,
   "id": "12b470c6-6524-42c8-afa7-98560438f8ac",
   "metadata": {},
   "outputs": [],
   "source": [
    "plot_one_date(\n",
    "    field1=pr10.pr10,\n",
    "    cmap_legend=\"Precipition over last 30 days (mm)\",\n",
    "    lat_min=40,\n",
    "    lat_max=52,\n",
    "    lon_min=-5,\n",
    "    lon_max=5,\n",
    "    time=extreme_date,\n",
    "    title=extreme_date,\n",
    "    rev=True\n",
    ")"
   ]
  },
  {
   "cell_type": "markdown",
   "id": "70bc1440-ce43-4453-b5de-dc667efc731b",
   "metadata": {},
   "source": [
    "### pr10_anom"
   ]
  },
  {
   "cell_type": "code",
   "execution_count": null,
   "id": "4627312e-253c-41c2-a7b2-84168f92dae7",
   "metadata": {},
   "outputs": [],
   "source": [
    "plot_one_date(\n",
    "    field1=pr10_anom.pr10,\n",
    "    cmap_legend=\"Geopotential Height (m)\",\n",
    "    lat_min=40,\n",
    "    lat_max=52,\n",
    "    lon_min=-5,\n",
    "    lon_max=5,\n",
    "    time=extreme_date,\n",
    "    title=extreme_date,\n",
    "    rev=True,\n",
    ")"
   ]
  },
  {
   "cell_type": "markdown",
   "id": "7dbf05e5-d9ba-4ca3-b626-5a2a19d0b9eb",
   "metadata": {},
   "source": [
    "### pr30"
   ]
  },
  {
   "cell_type": "code",
   "execution_count": null,
   "id": "ea857058-e498-4490-9128-f409d1f5c7fd",
   "metadata": {},
   "outputs": [],
   "source": [
    "plot_one_date(\n",
    "    field1=pr30.pr30,\n",
    "    cmap_legend=\"Precipition over last 30 days (mm)\",\n",
    "    lat_min=40,\n",
    "    lat_max=52,\n",
    "    lon_min=-5,\n",
    "    lon_max=5,\n",
    "    time=extreme_date,\n",
    "    title=extreme_date,\n",
    "    rev=True\n",
    ")"
   ]
  },
  {
   "cell_type": "markdown",
   "id": "d934f6c9-ec48-43a4-94eb-8f3946b09cf5",
   "metadata": {},
   "source": [
    "### pr30_anom"
   ]
  },
  {
   "cell_type": "code",
   "execution_count": null,
   "id": "769aa137-60ce-43a0-876d-edc41417fdc7",
   "metadata": {},
   "outputs": [],
   "source": [
    "plot_one_date(\n",
    "    field1=pr30_anom.pr30,\n",
    "    cmap_legend=\"Geopotential Height (m)\",\n",
    "    lat_min=40,\n",
    "    lat_max=52,\n",
    "    lon_min=-5,\n",
    "    lon_max=5,\n",
    "    time=extreme_date,\n",
    "    title=extreme_date,\n",
    "    rev=True,\n",
    ")"
   ]
  },
  {
   "cell_type": "markdown",
   "id": "f280a861-d73b-4b65-bffd-09ea7b164770",
   "metadata": {},
   "source": [
    "### pr90"
   ]
  },
  {
   "cell_type": "code",
   "execution_count": null,
   "id": "5ed136fc-7883-4472-8d38-10427850dca6",
   "metadata": {},
   "outputs": [],
   "source": [
    "plot_one_date(\n",
    "    field1=pr90.pr90,\n",
    "    cmap_legend=\"Precipition over last 30 days (mm)\",\n",
    "    lat_min=40,\n",
    "    lat_max=52,\n",
    "    lon_min=-5,\n",
    "    lon_max=5,\n",
    "    time=extreme_date,\n",
    "    title=extreme_date,\n",
    "    rev=True\n",
    ")"
   ]
  },
  {
   "cell_type": "markdown",
   "id": "c829e015-7b2a-4a0e-b0f8-642965828472",
   "metadata": {},
   "source": [
    "### pr90_anom"
   ]
  },
  {
   "cell_type": "code",
   "execution_count": null,
   "id": "3094c67f-4db3-4b1a-bf86-3b48505a5d7c",
   "metadata": {},
   "outputs": [],
   "source": [
    "plot_one_date(\n",
    "    field1=pr90_anom.pr90,\n",
    "    cmap_legend=\"Geopotential Height (m)\",\n",
    "    lat_min=40,\n",
    "    lat_max=52,\n",
    "    lon_min=-5,\n",
    "    lon_max=5,\n",
    "    time=extreme_date,\n",
    "    title=extreme_date,\n",
    "    rev=True,\n",
    ")"
   ]
  },
  {
   "cell_type": "markdown",
   "id": "4d0fd640-62e3-44a1-9e78-55bdf8ae5757",
   "metadata": {},
   "source": [
    "# Composite maps of anomalies for different quantities of extremes"
   ]
  },
  {
   "cell_type": "markdown",
   "id": "c18290bd-bdbe-4828-9e4a-ee852c895c04",
   "metadata": {},
   "source": [
    "### tas_anom"
   ]
  },
  {
   "cell_type": "code",
   "execution_count": null,
   "id": "ca2957a1-58cf-427b-a07d-aca7cd602b51",
   "metadata": {},
   "outputs": [],
   "source": [
    "plot_multiple_n(\n",
    "    field=tas_anom.tas,\n",
    "    cmap_legend=\"Temperature Anomaly (°C)\",\n",
    "    lat_min=40,\n",
    "    lat_max=60,\n",
    "    lon_min=-10,\n",
    "    lon_max=10,\n",
    "    tasmax=tas_anom.tas,\n",
    "    vmin=-13,\n",
    "    vmax=13,\n",
    ")"
   ]
  },
  {
   "cell_type": "markdown",
   "id": "dd461591-2b3d-447b-8b00-922110f86983",
   "metadata": {
    "execution": {
     "iopub.execute_input": "2025-08-27T08:47:43.972685Z",
     "iopub.status.busy": "2025-08-27T08:47:43.972286Z",
     "iopub.status.idle": "2025-08-27T08:47:44.273427Z",
     "shell.execute_reply": "2025-08-27T08:47:44.272948Z",
     "shell.execute_reply.started": "2025-08-27T08:47:43.972664Z"
    }
   },
   "source": [
    "### mrso_anom"
   ]
  },
  {
   "cell_type": "code",
   "execution_count": null,
   "id": "0ff883ce-084a-414a-b27e-5c95623f38f4",
   "metadata": {},
   "outputs": [],
   "source": [
    "plot_multiple_n(\n",
    "    field=mrso_anom.mrso,\n",
    "    cmap_legend=\"Soil Moisture Anomaly (kg/m2)\",\n",
    "    lat_min=40,\n",
    "    lat_max=60,\n",
    "    lon_min=-10,\n",
    "    lon_max=10,\n",
    "    tasmax=tas_anom.tas,\n",
    "    vmin=-100,\n",
    "    vmax=100,\n",
    "    rev=True,\n",
    ")"
   ]
  },
  {
   "cell_type": "markdown",
   "id": "2b2282c8-dc7a-49e4-9ebf-632eada33a83",
   "metadata": {},
   "source": [
    "### psl_anom"
   ]
  },
  {
   "cell_type": "code",
   "execution_count": null,
   "id": "ad22152b-13ce-4ac6-a33a-db281ae6847e",
   "metadata": {},
   "outputs": [],
   "source": [
    "plot_multiple_n(\n",
    "    field=psl_anom.psl,\n",
    "    cmap_legend=\"Sea Level Pressure Anomaly (Pa)\",\n",
    "    lat_min=30,\n",
    "    lat_max=75,\n",
    "    lon_min=-30,\n",
    "    lon_max=40,\n",
    "    tasmax=tas_anom.tas,\n",
    "    vmin=-640,\n",
    "    vmax=640,\n",
    ")"
   ]
  },
  {
   "cell_type": "markdown",
   "id": "8ec8c842-f098-4d0c-89c8-e2172a2d619f",
   "metadata": {},
   "source": [
    "### zg_anom"
   ]
  },
  {
   "cell_type": "code",
   "execution_count": null,
   "id": "e006ecf0-c6eb-4721-af8a-d751f772dcc0",
   "metadata": {},
   "outputs": [],
   "source": [
    "plot_multiple_n(\n",
    "    field=zg_anom.zg,\n",
    "    cmap_legend=\"Geopotential Height Anomaly (m)\",\n",
    "    lat_min=30,\n",
    "    lat_max=75,\n",
    "    lon_min=-30,\n",
    "    lon_max=40,\n",
    "    tasmax=tas_anom.tas,\n",
    "    vmin=-140,\n",
    "    vmax=140\n",
    ")"
   ]
  },
  {
   "cell_type": "markdown",
   "id": "52965bd1-2f26-4abf-9f02-32843663e0d0",
   "metadata": {},
   "source": [
    "### pr10_anom"
   ]
  },
  {
   "cell_type": "code",
   "execution_count": null,
   "id": "30bda692-ab60-4e97-93cc-1ada4f0805a3",
   "metadata": {},
   "outputs": [],
   "source": [
    "plot_multiple_n(\n",
    "    field=pr10_anom.pr10,\n",
    "    cmap_legend=\"Geopotential Height Anomaly (m)\",\n",
    "    lat_min=40,\n",
    "    lat_max=60,\n",
    "    lon_min=-10,\n",
    "    lon_max=10,\n",
    "    tasmax=tas_anom.tas,\n",
    "    rev=True,\n",
    "    vmin=-96,\n",
    "    vmax=96,\n",
    ")"
   ]
  },
  {
   "cell_type": "markdown",
   "id": "aa3f4848-03e2-43b8-a4b4-863fedc4a7d8",
   "metadata": {},
   "source": [
    "### pr30_anom"
   ]
  },
  {
   "cell_type": "code",
   "execution_count": null,
   "id": "19574d84-2f17-4df5-83e6-d8df4b32e4e2",
   "metadata": {},
   "outputs": [],
   "source": [
    "plot_multiple_n(\n",
    "    field=pr10_anom.pr10,\n",
    "    cmap_legend=\"Geopotential Height Anomaly (m)\",\n",
    "    lat_min=40,\n",
    "    lat_max=60,\n",
    "    lon_min=-10,\n",
    "    lon_max=10,\n",
    "    tasmax=tas_anom.tas,\n",
    "    vmin=-96,\n",
    "    vmax=96,\n",
    "    rev=True\n",
    ")"
   ]
  },
  {
   "cell_type": "markdown",
   "id": "648f2840-19bc-4734-a989-249ed6c6b11f",
   "metadata": {},
   "source": [
    "### pr90_anom"
   ]
  },
  {
   "cell_type": "code",
   "execution_count": null,
   "id": "5d5fda99-0e13-4302-93ae-f0723b231493",
   "metadata": {},
   "outputs": [],
   "source": [
    "plot_multiple_n(\n",
    "    field=pr90_anom.pr90,\n",
    "    cmap_legend=\"Geopotential Height Anomaly (m)\",\n",
    "    lat_min=40,\n",
    "    lat_max=60,\n",
    "    lon_min=-10,\n",
    "    lon_max=10,\n",
    "    tasmax=tas_anom.tas,\n",
    "    vmin=-240,\n",
    "    vmax=240,\n",
    "    rev=True\n",
    ")"
   ]
  },
  {
   "cell_type": "markdown",
   "id": "50a8decc-60b0-4449-a7a6-10d4cecddf40",
   "metadata": {},
   "source": [
    "# Evolution of Rank Correlation and RMS"
   ]
  },
  {
   "cell_type": "code",
   "execution_count": null,
   "id": "7a2d8928-25b7-4368-9fb1-794ec8738143",
   "metadata": {},
   "outputs": [],
   "source": [
    "fields=[zg_anom.zg,psl_anom.psl,pr90_anom.pr90,pr30_anom.pr30,pr10_anom.pr10,mrso_anom.mrso,tas_anom.tas]\n",
    "\n",
    "lats1=[30,30,42,42,42,42,42]\n",
    "lats2=[65,65,51,51,51,51,51]\n",
    "lons1=[-30,-30,-5,-5,-5,-5,-5]\n",
    "lons2=[30,30,5,5,5,5,5]\n",
    "labels=[\"zg500\",\"psl\",\"pr90\",\"pr30\",\"pr10\",\"mrso\",\"tas\"]\n",
    "col=[\"b\",\"magenta\",\"lime\",\"k\",\"chartreuse\",\"orange\",\"r\"]"
   ]
  },
  {
   "cell_type": "markdown",
   "id": "49f9b189-2623-45af-b4d2-55e421be965f",
   "metadata": {},
   "source": [
    "Evolution of correlation and RMS as we get further away before the extremes"
   ]
  },
  {
   "cell_type": "code",
   "execution_count": null,
   "id": "2ac83fec-fbc5-4172-be99-315d5a35947a",
   "metadata": {},
   "outputs": [],
   "source": [
    "plot_corr_evolution(fields,extremes,lats1,lats2,lons1,lons2,labels,col,20)"
   ]
  },
  {
   "cell_type": "code",
   "execution_count": null,
   "id": "a5c9f189-4e68-47e1-8654-73e4a83716ec",
   "metadata": {},
   "outputs": [],
   "source": [
    "plot_rms_evolution(fields,extremes,lats1,lats2,lons1,lons2,labels,col,20)"
   ]
  },
  {
   "cell_type": "markdown",
   "id": "d4c38958-203e-4929-bbbd-6b400050d030",
   "metadata": {},
   "source": [
    "# Evolution before an extreme event "
   ]
  },
  {
   "cell_type": "code",
   "execution_count": null,
   "id": "7a8a49d1-f131-4d42-9065-d1220e48d6fe",
   "metadata": {},
   "outputs": [],
   "source": [
    "# taus = range(12)\n",
    "# for i in range(5):\n",
    "#     for tau in reversed(taus):\n",
    "#         save_path = f\"/scratchx/pchevali/tests_gif/test_tau_{11-tau}.png\"\n",
    "#         extremes_tau_before = add_days_from_index(extremes.index[i],-tau)\n",
    "#         plot_one_date_3fields(\n",
    "#             field1=tas_anom.tas,\n",
    "#             cmap_legend1=\"Temperature Anomaly (K)\",\n",
    "#             cmap_legend2=\"Soil Moisture Anomaly (kg/m2)\",\n",
    "#             lat_min2=38,\n",
    "#             lat_max2=52,\n",
    "#             lon_min2=-5,\n",
    "#             lon_max2=10,\n",
    "#             lat_min1=30,\n",
    "#             lat_max1=65,\n",
    "#             lon_min1=-30,\n",
    "#             lon_max1=30,\n",
    "#             times=extremes_tau_before,\n",
    "#             save=save_path,\n",
    "#             vmin1=tas_anom.tas.sel(lat=48.8,lon=2.3,method=\"nearest\").min(),\n",
    "#             vmax1=tas_anom.tas.sel(lat=48.8,lon=2.3,method=\"nearest\").max(),\n",
    "#             vmin2=mrso_anom.mrso.sel(lat=48.8,lon=2.3,method=\"nearest\").min(),\n",
    "#             vmax2=mrso_anom.mrso.sel(lat=48.8,lon=2.3,method=\"nearest\").max(),\n",
    "#             field2=zg_anom.zg,\n",
    "#             field3=mrso_anom.mrso,\n",
    "#             title=str(tau) + \" days before\",\n",
    "#             field4=psl_anom.psl,\n",
    "#             lat_min3=30,\n",
    "#             lat_max3=65,\n",
    "#             lon_min3=-30,\n",
    "#             lon_max3=30,\n",
    "#             cmap_legend3=\"Sea Level Pressure Anomaly (Pa)\",\n",
    "#             vmin3=psl_anom.sel(lat=48.8,lon=2.3,method=\"nearest\").psl.min(),\n",
    "#             vmax3=psl_anom.sel(lat=48.8,lon=2.3,method=\"nearest\").psl.max(),\n",
    "#             plot=False,\n",
    "#         )\n",
    "#     create_gif(\n",
    "#         \"/scratchx/pchevali/tests_gif\",\n",
    "#         f\"/scratchx/pchevali/tests_gif/{i}.gif\",\n",
    "#         duration=500)"
   ]
  }
 ],
 "metadata": {
  "kernelspec": {
   "display_name": "Python 3",
   "language": "python",
   "name": "python3"
  },
  "language_info": {
   "codemirror_mode": {
    "name": "ipython",
    "version": 3
   },
   "file_extension": ".py",
   "mimetype": "text/x-python",
   "name": "python",
   "nbconvert_exporter": "python",
   "pygments_lexer": "ipython3",
   "version": "3.11.7"
  }
 },
 "nbformat": 4,
 "nbformat_minor": 5
}
