{
 "cells": [
  {
   "cell_type": "markdown",
   "id": "4367ba5b-162f-415d-814f-17160526f6d3",
   "metadata": {},
   "source": [
    "By hard transfer we mean using the model training on the data from IPSL as is to infer for ERA5"
   ]
  },
  {
   "cell_type": "code",
   "execution_count": 1,
   "id": "ba60c57a-4fb1-4c87-8d11-d0d5c5c744c3",
   "metadata": {},
   "outputs": [
    {
     "name": "stderr",
     "output_type": "stream",
     "text": [
      "2025-09-15 10:23:12.479809: I tensorflow/core/util/port.cc:113] oneDNN custom operations are on. You may see slightly different numerical results due to floating-point round-off errors from different computation orders. To turn them off, set the environment variable `TF_ENABLE_ONEDNN_OPTS=0`.\n",
      "2025-09-15 10:23:12.499167: E external/local_xla/xla/stream_executor/cuda/cuda_dnn.cc:9261] Unable to register cuDNN factory: Attempting to register factory for plugin cuDNN when one has already been registered\n",
      "2025-09-15 10:23:12.499184: E external/local_xla/xla/stream_executor/cuda/cuda_fft.cc:607] Unable to register cuFFT factory: Attempting to register factory for plugin cuFFT when one has already been registered\n",
      "2025-09-15 10:23:12.499772: E external/local_xla/xla/stream_executor/cuda/cuda_blas.cc:1515] Unable to register cuBLAS factory: Attempting to register factory for plugin cuBLAS when one has already been registered\n",
      "2025-09-15 10:23:12.503070: I tensorflow/core/platform/cpu_feature_guard.cc:182] This TensorFlow binary is optimized to use available CPU instructions in performance-critical operations.\n",
      "To enable the following instructions: AVX2 AVX_VNNI FMA, in other operations, rebuild TensorFlow with the appropriate compiler flags.\n",
      "2025-09-15 10:23:13.136069: W tensorflow/compiler/tf2tensorrt/utils/py_utils.cc:38] TF-TRT Warning: Could not find TensorRT\n",
      "2025-09-15 10:23:14.777674: I external/local_xla/xla/stream_executor/cuda/cuda_executor.cc:901] successful NUMA node read from SysFS had negative value (-1), but there must be at least one NUMA node, so returning NUMA node zero. See more at https://github.com/torvalds/linux/blob/v6.0/Documentation/ABI/testing/sysfs-bus-pci#L344-L355\n",
      "2025-09-15 10:23:14.799758: I external/local_xla/xla/stream_executor/cuda/cuda_executor.cc:901] successful NUMA node read from SysFS had negative value (-1), but there must be at least one NUMA node, so returning NUMA node zero. See more at https://github.com/torvalds/linux/blob/v6.0/Documentation/ABI/testing/sysfs-bus-pci#L344-L355\n",
      "2025-09-15 10:23:14.799853: I external/local_xla/xla/stream_executor/cuda/cuda_executor.cc:901] successful NUMA node read from SysFS had negative value (-1), but there must be at least one NUMA node, so returning NUMA node zero. See more at https://github.com/torvalds/linux/blob/v6.0/Documentation/ABI/testing/sysfs-bus-pci#L344-L355\n"
     ]
    }
   ],
   "source": [
    "import numpy as np\n",
    "import tensorflow as tf\n",
    "import xarray as xr\n",
    "import keras\n",
    "from keras import layers\n",
    "from tensorflow.keras.callbacks import EarlyStopping, ReduceLROnPlateau\n",
    "\n",
    "from unet_ipsl_psl_zg_pr10_tas_to_tas_lag1_COMMITOR import create_UNET, CustomDataset  # import first script"
   ]
  },
  {
   "cell_type": "code",
   "execution_count": 7,
   "id": "ade28ec3-6933-4682-9284-254be93c8616",
   "metadata": {},
   "outputs": [],
   "source": [
    "pretrained_model_path = \"models/psl_zg_pr10_tas_to_tas_ipsl_lag1_COMMITTOR.keras\"\n",
    "base_model_ipsl = keras.models.load_model(pretrained_model_path, compile=True)\n",
    "pretrained_model_path = \"models/psl_zg_pr10_tas_to_tas_era5_lag1_COMMITTOR.keras\"\n",
    "base_model_era5 = keras.models.load_model(pretrained_model_path, compile=True)\n",
    "pretrained_model_path = \"models/temp.keras\"\n",
    "base_model_era5_transfer = keras.models.load_model(pretrained_model_path, compile=True)\n",
    "\n",
    "# New dataset (same preprocessing!)\n",
    "\n",
    "zg_file_train = \"/homedata/pchevali/ERA5/training_val_sets/zg_anom_era5_train.nc\"\n",
    "psl_file_train = \"/homedata/pchevali/ERA5/training_val_sets/psl_anom_era5_train.nc\"\n",
    "pr10_file_train = \"/homedata/pchevali/ERA5/training_val_sets/pr10_anom_era5_train.nc\"\n",
    "tas_file_train = \"/homedata/pchevali/ERA5/training_val_sets/tas_anom_era5_train.nc\"\n",
    "\n",
    "zg_file_val = \"/homedata/pchevali/ERA5/training_val_sets/zg_anom_era5_val.nc\"\n",
    "psl_file_val = \"/homedata/pchevali/ERA5/training_val_sets/psl_anom_era5_val.nc\"\n",
    "pr10_file_val = \"/homedata/pchevali/ERA5/training_val_sets/pr10_anom_era5_val.nc\"\n",
    "tas_file_val = \"/homedata/pchevali/ERA5/training_val_sets/tas_anom_era5_val.nc\"\n",
    "\n",
    "# Train and val datasets\n",
    "dataset_train = CustomDataset(\n",
    "    psl_file_train, zg_file_train, pr10_file_train, tas_file_train, batch_size=32, lag=1\n",
    ")\n",
    "\n",
    "dataset_val = CustomDataset(\n",
    "    psl_file_val, zg_file_val, pr10_file_val, tas_file_val,\n",
    "    batch_size=32, lag=1,\n",
    "    std_ref_psl=dataset_train.psl_std,\n",
    "    std_ref_zg=dataset_train.zg_std,\n",
    "    std_ref_pr10=dataset_train.pr10_std\n",
    ")\n"
   ]
  },
  {
   "cell_type": "code",
   "execution_count": 8,
   "id": "3ea85da4-88e1-4dd8-ab8b-7b014f4f0ca9",
   "metadata": {},
   "outputs": [
    {
     "name": "stderr",
     "output_type": "stream",
     "text": [
      "/net/nfs/tools/u20/Python/miniconda3_py311_23.11.0-2/envs/tensorflow-2.15.0/lib/python3.11/site-packages/keras/src/trainers/data_adapters/py_dataset_adapter.py:122: UserWarning: Your `PyDataset` class should call `super().__init__(**kwargs)` in its constructor. `**kwargs` can include `workers`, `use_multiprocessing`, `max_queue_size`. Do not pass these arguments to `fit()`, as they will be ignored.\n",
      "  self._warn_if_super_not_called()\n"
     ]
    },
    {
     "name": "stdout",
     "output_type": "stream",
     "text": [
      "\u001b[1m62/62\u001b[0m \u001b[32m━━━━━━━━━━━━━━━━━━━━\u001b[0m\u001b[37m\u001b[0m \u001b[1m1s\u001b[0m 6ms/step - accuracy: 0.9920 - loss: 0.0208\n"
     ]
    },
    {
     "data": {
      "text/plain": [
       "[0.022709663957357407, 0.9913025498390198]"
      ]
     },
     "execution_count": 8,
     "metadata": {},
     "output_type": "execute_result"
    }
   ],
   "source": [
    "base_model_ipsl.evaluate(dataset_val)"
   ]
  },
  {
   "cell_type": "code",
   "execution_count": 9,
   "id": "62f77649-536e-4039-b7e2-ad2c620760a3",
   "metadata": {},
   "outputs": [
    {
     "name": "stdout",
     "output_type": "stream",
     "text": [
      "\u001b[1m62/62\u001b[0m \u001b[32m━━━━━━━━━━━━━━━━━━━━\u001b[0m\u001b[37m\u001b[0m \u001b[1m1s\u001b[0m 7ms/step - accuracy: 0.9890 - loss: 0.0258\n"
     ]
    },
    {
     "data": {
      "text/plain": [
       "[0.027813488617539406, 0.9880977869033813]"
      ]
     },
     "execution_count": 9,
     "metadata": {},
     "output_type": "execute_result"
    }
   ],
   "source": [
    "base_model_era5.evaluate(dataset_val)"
   ]
  },
  {
   "cell_type": "code",
   "execution_count": 10,
   "id": "b6dae874-5569-466c-bb19-baae0271bb7e",
   "metadata": {},
   "outputs": [
    {
     "name": "stdout",
     "output_type": "stream",
     "text": [
      "\u001b[1m62/62\u001b[0m \u001b[32m━━━━━━━━━━━━━━━━━━━━\u001b[0m\u001b[37m\u001b[0m \u001b[1m1s\u001b[0m 8ms/step - accuracy: 0.9898 - loss: 0.0072\n"
     ]
    },
    {
     "data": {
      "text/plain": [
       "[0.0077635678462684155, 0.9891030788421631]"
      ]
     },
     "execution_count": 10,
     "metadata": {},
     "output_type": "execute_result"
    }
   ],
   "source": [
    "base_model_era5_transfer.evaluate(dataset_val)"
   ]
  },
  {
   "cell_type": "code",
   "execution_count": 11,
   "id": "99129701-cf49-4e57-8298-6ed0143d2fd2",
   "metadata": {},
   "outputs": [
    {
     "name": "stdout",
     "output_type": "stream",
     "text": [
      "\u001b[1m62/62\u001b[0m \u001b[32m━━━━━━━━━━━━━━━━━━━━\u001b[0m\u001b[37m\u001b[0m \u001b[1m1s\u001b[0m 10ms/step\n"
     ]
    }
   ],
   "source": [
    "out_predict = np.squeeze(base_model_ipsl.predict(dataset_val))\n",
    "out_true = np.concatenate([y for _, y in dataset_val], axis=0)\n",
    "out_true = np.squeeze(out_true)\n",
    "\n",
    "time = dataset_val.tas_data.time.values[:out_true.shape[0]]\n",
    "lat = dataset_val.tas_data.lat.values\n",
    "lon = dataset_val.tas_data.lon.values\n",
    "\n",
    "ds = xr.Dataset(\n",
    "    {\n",
    "        \"out_true\": ([\"time\", \"lat\", \"lon\"], out_true),\n",
    "        \"out_predict\": ([\"time\", \"lat\", \"lon\"], out_predict),\n",
    "    },\n",
    "    coords={\"time\": time, \"lat\": lat, \"lon\": lon}\n",
    ")\n",
    "ds.to_netcdf(\"models/psl_zg_pr10_tas_to_tas_hard_transfer_lag1_COMMITTOR.nc\")"
   ]
  },
  {
   "cell_type": "code",
   "execution_count": null,
   "id": "e04e9867-76d7-43de-8771-9619d6033002",
   "metadata": {},
   "outputs": [],
   "source": []
  }
 ],
 "metadata": {
  "kernelspec": {
   "display_name": "Python 3 (ipykernel)",
   "language": "python",
   "name": "python3"
  },
  "language_info": {
   "codemirror_mode": {
    "name": "ipython",
    "version": 3
   },
   "file_extension": ".py",
   "mimetype": "text/x-python",
   "name": "python",
   "nbconvert_exporter": "python",
   "pygments_lexer": "ipython3",
   "version": "3.11.7"
  }
 },
 "nbformat": 4,
 "nbformat_minor": 5
}
